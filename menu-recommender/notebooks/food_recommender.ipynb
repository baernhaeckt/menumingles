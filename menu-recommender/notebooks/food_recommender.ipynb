{
 "cells": [
  {
   "metadata": {},
   "cell_type": "markdown",
   "source": "### Imports",
   "id": "d7664f1c78653036"
  },
  {
   "cell_type": "code",
   "id": "initial_id",
   "metadata": {
    "collapsed": true,
    "ExecuteTime": {
     "end_time": "2025-08-24T00:06:46.841015Z",
     "start_time": "2025-08-24T00:06:46.835822Z"
    }
   },
   "source": [
    "import pickle\n",
    "import joblib\n",
    "\n",
    "import torch\n",
    "import torch.nn as nn\n",
    "import torch.nn.functional as F\n",
    "\n",
    "import random\n",
    "import tqdm\n",
    "\n",
    "import pandas as pd"
   ],
   "outputs": [],
   "execution_count": 180
  },
  {
   "metadata": {
    "ExecuteTime": {
     "end_time": "2025-08-22T20:04:55.464396Z",
     "start_time": "2025-08-22T20:04:55.460712Z"
    }
   },
   "cell_type": "markdown",
   "source": "### Read the dataset",
   "id": "dd40ceed079b0d8e"
  },
  {
   "metadata": {
    "ExecuteTime": {
     "end_time": "2025-08-24T00:07:10.528694Z",
     "start_time": "2025-08-24T00:06:54.429586Z"
    }
   },
   "cell_type": "code",
   "source": [
    "df_recipies = pd.read_csv(\"./../dataset/recipes_clean.csv\", low_memory=False)\n",
    "\n",
    "print(f\"Number of recipes: {len(df_recipies)}\")\n",
    "df_recipies.head()"
   ],
   "id": "58a8443e22b346f9",
   "outputs": [
    {
     "name": "stdout",
     "output_type": "stream",
     "text": [
      "Number of recipes: 2231133\n"
     ]
    },
    {
     "data": {
      "text/plain": [
       "                   title                                        ingredients  \\\n",
       "0    No-Bake Nut Cookies  [\"1 c. firmly packed brown sugar\", \"1/2 c. eva...   \n",
       "1  Jewell Ball'S Chicken  [\"1 small jar chipped beef, cut up\", \"4 boned ...   \n",
       "2            Creamy Corn  [\"2 (16 oz.) pkg. frozen corn\", \"1 (8 oz.) pkg...   \n",
       "3          Chicken Funny  [\"1 large whole chicken\", \"2 (10 1/2 oz.) cans...   \n",
       "4     Reeses Cups(Candy)  [\"1 c. peanut butter\", \"3/4 c. graham cracker ...   \n",
       "\n",
       "                                          directions  \\\n",
       "0  [\"In a heavy 2-quart saucepan, mix brown sugar...   \n",
       "1  [\"Place chipped beef on bottom of baking dish....   \n",
       "2  [\"In a slow cooker, combine all ingredients. C...   \n",
       "3  [\"Boil and debone chicken.\", \"Put bite size pi...   \n",
       "4  [\"Combine first four ingredients and press in ...   \n",
       "\n",
       "                                              link    source  \\\n",
       "0   www.cookbooks.com/Recipe-Details.aspx?id=44874  Gathered   \n",
       "1  www.cookbooks.com/Recipe-Details.aspx?id=699419  Gathered   \n",
       "2   www.cookbooks.com/Recipe-Details.aspx?id=10570  Gathered   \n",
       "3  www.cookbooks.com/Recipe-Details.aspx?id=897570  Gathered   \n",
       "4  www.cookbooks.com/Recipe-Details.aspx?id=659239  Gathered   \n",
       "\n",
       "                                                 NER               site  \n",
       "0  [\"bite size shredded rice biscuits\", \"vanilla\"...  www.cookbooks.com  \n",
       "1  [\"cream of mushroom soup\", \"beef\", \"sour cream...  www.cookbooks.com  \n",
       "2  [\"frozen corn\", \"pepper\", \"cream cheese\", \"gar...  www.cookbooks.com  \n",
       "3  [\"chicken gravy\", \"cream of mushroom soup\", \"c...  www.cookbooks.com  \n",
       "4  [\"graham cracker crumbs\", \"powdered sugar\", \"p...  www.cookbooks.com  "
      ],
      "text/html": [
       "<div>\n",
       "<style scoped>\n",
       "    .dataframe tbody tr th:only-of-type {\n",
       "        vertical-align: middle;\n",
       "    }\n",
       "\n",
       "    .dataframe tbody tr th {\n",
       "        vertical-align: top;\n",
       "    }\n",
       "\n",
       "    .dataframe thead th {\n",
       "        text-align: right;\n",
       "    }\n",
       "</style>\n",
       "<table border=\"1\" class=\"dataframe\">\n",
       "  <thead>\n",
       "    <tr style=\"text-align: right;\">\n",
       "      <th></th>\n",
       "      <th>title</th>\n",
       "      <th>ingredients</th>\n",
       "      <th>directions</th>\n",
       "      <th>link</th>\n",
       "      <th>source</th>\n",
       "      <th>NER</th>\n",
       "      <th>site</th>\n",
       "    </tr>\n",
       "  </thead>\n",
       "  <tbody>\n",
       "    <tr>\n",
       "      <th>0</th>\n",
       "      <td>No-Bake Nut Cookies</td>\n",
       "      <td>[\"1 c. firmly packed brown sugar\", \"1/2 c. eva...</td>\n",
       "      <td>[\"In a heavy 2-quart saucepan, mix brown sugar...</td>\n",
       "      <td>www.cookbooks.com/Recipe-Details.aspx?id=44874</td>\n",
       "      <td>Gathered</td>\n",
       "      <td>[\"bite size shredded rice biscuits\", \"vanilla\"...</td>\n",
       "      <td>www.cookbooks.com</td>\n",
       "    </tr>\n",
       "    <tr>\n",
       "      <th>1</th>\n",
       "      <td>Jewell Ball'S Chicken</td>\n",
       "      <td>[\"1 small jar chipped beef, cut up\", \"4 boned ...</td>\n",
       "      <td>[\"Place chipped beef on bottom of baking dish....</td>\n",
       "      <td>www.cookbooks.com/Recipe-Details.aspx?id=699419</td>\n",
       "      <td>Gathered</td>\n",
       "      <td>[\"cream of mushroom soup\", \"beef\", \"sour cream...</td>\n",
       "      <td>www.cookbooks.com</td>\n",
       "    </tr>\n",
       "    <tr>\n",
       "      <th>2</th>\n",
       "      <td>Creamy Corn</td>\n",
       "      <td>[\"2 (16 oz.) pkg. frozen corn\", \"1 (8 oz.) pkg...</td>\n",
       "      <td>[\"In a slow cooker, combine all ingredients. C...</td>\n",
       "      <td>www.cookbooks.com/Recipe-Details.aspx?id=10570</td>\n",
       "      <td>Gathered</td>\n",
       "      <td>[\"frozen corn\", \"pepper\", \"cream cheese\", \"gar...</td>\n",
       "      <td>www.cookbooks.com</td>\n",
       "    </tr>\n",
       "    <tr>\n",
       "      <th>3</th>\n",
       "      <td>Chicken Funny</td>\n",
       "      <td>[\"1 large whole chicken\", \"2 (10 1/2 oz.) cans...</td>\n",
       "      <td>[\"Boil and debone chicken.\", \"Put bite size pi...</td>\n",
       "      <td>www.cookbooks.com/Recipe-Details.aspx?id=897570</td>\n",
       "      <td>Gathered</td>\n",
       "      <td>[\"chicken gravy\", \"cream of mushroom soup\", \"c...</td>\n",
       "      <td>www.cookbooks.com</td>\n",
       "    </tr>\n",
       "    <tr>\n",
       "      <th>4</th>\n",
       "      <td>Reeses Cups(Candy)</td>\n",
       "      <td>[\"1 c. peanut butter\", \"3/4 c. graham cracker ...</td>\n",
       "      <td>[\"Combine first four ingredients and press in ...</td>\n",
       "      <td>www.cookbooks.com/Recipe-Details.aspx?id=659239</td>\n",
       "      <td>Gathered</td>\n",
       "      <td>[\"graham cracker crumbs\", \"powdered sugar\", \"p...</td>\n",
       "      <td>www.cookbooks.com</td>\n",
       "    </tr>\n",
       "  </tbody>\n",
       "</table>\n",
       "</div>"
      ]
     },
     "execution_count": 181,
     "metadata": {},
     "output_type": "execute_result"
    }
   ],
   "execution_count": 181
  },
  {
   "metadata": {
    "ExecuteTime": {
     "end_time": "2025-08-24T00:07:18.020120Z",
     "start_time": "2025-08-24T00:07:17.825483Z"
    }
   },
   "cell_type": "code",
   "source": [
    "df_recipies.dropna(axis=0, subset=[\"title\"], inplace=True)\n",
    "\n",
    "print(f\"Number of recipes: {len(df_recipies)}\")\n",
    "df_recipies.head()"
   ],
   "id": "cf02eea1bf0d0cca",
   "outputs": [
    {
     "name": "stdout",
     "output_type": "stream",
     "text": [
      "Number of recipes: 2231132\n"
     ]
    },
    {
     "data": {
      "text/plain": [
       "                   title                                        ingredients  \\\n",
       "0    No-Bake Nut Cookies  [\"1 c. firmly packed brown sugar\", \"1/2 c. eva...   \n",
       "1  Jewell Ball'S Chicken  [\"1 small jar chipped beef, cut up\", \"4 boned ...   \n",
       "2            Creamy Corn  [\"2 (16 oz.) pkg. frozen corn\", \"1 (8 oz.) pkg...   \n",
       "3          Chicken Funny  [\"1 large whole chicken\", \"2 (10 1/2 oz.) cans...   \n",
       "4     Reeses Cups(Candy)  [\"1 c. peanut butter\", \"3/4 c. graham cracker ...   \n",
       "\n",
       "                                          directions  \\\n",
       "0  [\"In a heavy 2-quart saucepan, mix brown sugar...   \n",
       "1  [\"Place chipped beef on bottom of baking dish....   \n",
       "2  [\"In a slow cooker, combine all ingredients. C...   \n",
       "3  [\"Boil and debone chicken.\", \"Put bite size pi...   \n",
       "4  [\"Combine first four ingredients and press in ...   \n",
       "\n",
       "                                              link    source  \\\n",
       "0   www.cookbooks.com/Recipe-Details.aspx?id=44874  Gathered   \n",
       "1  www.cookbooks.com/Recipe-Details.aspx?id=699419  Gathered   \n",
       "2   www.cookbooks.com/Recipe-Details.aspx?id=10570  Gathered   \n",
       "3  www.cookbooks.com/Recipe-Details.aspx?id=897570  Gathered   \n",
       "4  www.cookbooks.com/Recipe-Details.aspx?id=659239  Gathered   \n",
       "\n",
       "                                                 NER               site  \n",
       "0  [\"bite size shredded rice biscuits\", \"vanilla\"...  www.cookbooks.com  \n",
       "1  [\"cream of mushroom soup\", \"beef\", \"sour cream...  www.cookbooks.com  \n",
       "2  [\"frozen corn\", \"pepper\", \"cream cheese\", \"gar...  www.cookbooks.com  \n",
       "3  [\"chicken gravy\", \"cream of mushroom soup\", \"c...  www.cookbooks.com  \n",
       "4  [\"graham cracker crumbs\", \"powdered sugar\", \"p...  www.cookbooks.com  "
      ],
      "text/html": [
       "<div>\n",
       "<style scoped>\n",
       "    .dataframe tbody tr th:only-of-type {\n",
       "        vertical-align: middle;\n",
       "    }\n",
       "\n",
       "    .dataframe tbody tr th {\n",
       "        vertical-align: top;\n",
       "    }\n",
       "\n",
       "    .dataframe thead th {\n",
       "        text-align: right;\n",
       "    }\n",
       "</style>\n",
       "<table border=\"1\" class=\"dataframe\">\n",
       "  <thead>\n",
       "    <tr style=\"text-align: right;\">\n",
       "      <th></th>\n",
       "      <th>title</th>\n",
       "      <th>ingredients</th>\n",
       "      <th>directions</th>\n",
       "      <th>link</th>\n",
       "      <th>source</th>\n",
       "      <th>NER</th>\n",
       "      <th>site</th>\n",
       "    </tr>\n",
       "  </thead>\n",
       "  <tbody>\n",
       "    <tr>\n",
       "      <th>0</th>\n",
       "      <td>No-Bake Nut Cookies</td>\n",
       "      <td>[\"1 c. firmly packed brown sugar\", \"1/2 c. eva...</td>\n",
       "      <td>[\"In a heavy 2-quart saucepan, mix brown sugar...</td>\n",
       "      <td>www.cookbooks.com/Recipe-Details.aspx?id=44874</td>\n",
       "      <td>Gathered</td>\n",
       "      <td>[\"bite size shredded rice biscuits\", \"vanilla\"...</td>\n",
       "      <td>www.cookbooks.com</td>\n",
       "    </tr>\n",
       "    <tr>\n",
       "      <th>1</th>\n",
       "      <td>Jewell Ball'S Chicken</td>\n",
       "      <td>[\"1 small jar chipped beef, cut up\", \"4 boned ...</td>\n",
       "      <td>[\"Place chipped beef on bottom of baking dish....</td>\n",
       "      <td>www.cookbooks.com/Recipe-Details.aspx?id=699419</td>\n",
       "      <td>Gathered</td>\n",
       "      <td>[\"cream of mushroom soup\", \"beef\", \"sour cream...</td>\n",
       "      <td>www.cookbooks.com</td>\n",
       "    </tr>\n",
       "    <tr>\n",
       "      <th>2</th>\n",
       "      <td>Creamy Corn</td>\n",
       "      <td>[\"2 (16 oz.) pkg. frozen corn\", \"1 (8 oz.) pkg...</td>\n",
       "      <td>[\"In a slow cooker, combine all ingredients. C...</td>\n",
       "      <td>www.cookbooks.com/Recipe-Details.aspx?id=10570</td>\n",
       "      <td>Gathered</td>\n",
       "      <td>[\"frozen corn\", \"pepper\", \"cream cheese\", \"gar...</td>\n",
       "      <td>www.cookbooks.com</td>\n",
       "    </tr>\n",
       "    <tr>\n",
       "      <th>3</th>\n",
       "      <td>Chicken Funny</td>\n",
       "      <td>[\"1 large whole chicken\", \"2 (10 1/2 oz.) cans...</td>\n",
       "      <td>[\"Boil and debone chicken.\", \"Put bite size pi...</td>\n",
       "      <td>www.cookbooks.com/Recipe-Details.aspx?id=897570</td>\n",
       "      <td>Gathered</td>\n",
       "      <td>[\"chicken gravy\", \"cream of mushroom soup\", \"c...</td>\n",
       "      <td>www.cookbooks.com</td>\n",
       "    </tr>\n",
       "    <tr>\n",
       "      <th>4</th>\n",
       "      <td>Reeses Cups(Candy)</td>\n",
       "      <td>[\"1 c. peanut butter\", \"3/4 c. graham cracker ...</td>\n",
       "      <td>[\"Combine first four ingredients and press in ...</td>\n",
       "      <td>www.cookbooks.com/Recipe-Details.aspx?id=659239</td>\n",
       "      <td>Gathered</td>\n",
       "      <td>[\"graham cracker crumbs\", \"powdered sugar\", \"p...</td>\n",
       "      <td>www.cookbooks.com</td>\n",
       "    </tr>\n",
       "  </tbody>\n",
       "</table>\n",
       "</div>"
      ]
     },
     "execution_count": 182,
     "metadata": {},
     "output_type": "execute_result"
    }
   ],
   "execution_count": 182
  },
  {
   "metadata": {
    "ExecuteTime": {
     "end_time": "2025-08-24T00:07:22.237009Z",
     "start_time": "2025-08-24T00:07:21.994364Z"
    }
   },
   "cell_type": "code",
   "source": [
    "df_recipies.drop_duplicates(subset=[\"title\"], inplace=True)\n",
    "\n",
    "print(f\"Number of recipes: {len(df_recipies)}\")\n",
    "df_recipies.head()"
   ],
   "id": "b9e29750f95df5d4",
   "outputs": [
    {
     "name": "stdout",
     "output_type": "stream",
     "text": [
      "Number of recipes: 1290105\n"
     ]
    },
    {
     "data": {
      "text/plain": [
       "                   title                                        ingredients  \\\n",
       "0    No-Bake Nut Cookies  [\"1 c. firmly packed brown sugar\", \"1/2 c. eva...   \n",
       "1  Jewell Ball'S Chicken  [\"1 small jar chipped beef, cut up\", \"4 boned ...   \n",
       "2            Creamy Corn  [\"2 (16 oz.) pkg. frozen corn\", \"1 (8 oz.) pkg...   \n",
       "3          Chicken Funny  [\"1 large whole chicken\", \"2 (10 1/2 oz.) cans...   \n",
       "4     Reeses Cups(Candy)  [\"1 c. peanut butter\", \"3/4 c. graham cracker ...   \n",
       "\n",
       "                                          directions  \\\n",
       "0  [\"In a heavy 2-quart saucepan, mix brown sugar...   \n",
       "1  [\"Place chipped beef on bottom of baking dish....   \n",
       "2  [\"In a slow cooker, combine all ingredients. C...   \n",
       "3  [\"Boil and debone chicken.\", \"Put bite size pi...   \n",
       "4  [\"Combine first four ingredients and press in ...   \n",
       "\n",
       "                                              link    source  \\\n",
       "0   www.cookbooks.com/Recipe-Details.aspx?id=44874  Gathered   \n",
       "1  www.cookbooks.com/Recipe-Details.aspx?id=699419  Gathered   \n",
       "2   www.cookbooks.com/Recipe-Details.aspx?id=10570  Gathered   \n",
       "3  www.cookbooks.com/Recipe-Details.aspx?id=897570  Gathered   \n",
       "4  www.cookbooks.com/Recipe-Details.aspx?id=659239  Gathered   \n",
       "\n",
       "                                                 NER               site  \n",
       "0  [\"bite size shredded rice biscuits\", \"vanilla\"...  www.cookbooks.com  \n",
       "1  [\"cream of mushroom soup\", \"beef\", \"sour cream...  www.cookbooks.com  \n",
       "2  [\"frozen corn\", \"pepper\", \"cream cheese\", \"gar...  www.cookbooks.com  \n",
       "3  [\"chicken gravy\", \"cream of mushroom soup\", \"c...  www.cookbooks.com  \n",
       "4  [\"graham cracker crumbs\", \"powdered sugar\", \"p...  www.cookbooks.com  "
      ],
      "text/html": [
       "<div>\n",
       "<style scoped>\n",
       "    .dataframe tbody tr th:only-of-type {\n",
       "        vertical-align: middle;\n",
       "    }\n",
       "\n",
       "    .dataframe tbody tr th {\n",
       "        vertical-align: top;\n",
       "    }\n",
       "\n",
       "    .dataframe thead th {\n",
       "        text-align: right;\n",
       "    }\n",
       "</style>\n",
       "<table border=\"1\" class=\"dataframe\">\n",
       "  <thead>\n",
       "    <tr style=\"text-align: right;\">\n",
       "      <th></th>\n",
       "      <th>title</th>\n",
       "      <th>ingredients</th>\n",
       "      <th>directions</th>\n",
       "      <th>link</th>\n",
       "      <th>source</th>\n",
       "      <th>NER</th>\n",
       "      <th>site</th>\n",
       "    </tr>\n",
       "  </thead>\n",
       "  <tbody>\n",
       "    <tr>\n",
       "      <th>0</th>\n",
       "      <td>No-Bake Nut Cookies</td>\n",
       "      <td>[\"1 c. firmly packed brown sugar\", \"1/2 c. eva...</td>\n",
       "      <td>[\"In a heavy 2-quart saucepan, mix brown sugar...</td>\n",
       "      <td>www.cookbooks.com/Recipe-Details.aspx?id=44874</td>\n",
       "      <td>Gathered</td>\n",
       "      <td>[\"bite size shredded rice biscuits\", \"vanilla\"...</td>\n",
       "      <td>www.cookbooks.com</td>\n",
       "    </tr>\n",
       "    <tr>\n",
       "      <th>1</th>\n",
       "      <td>Jewell Ball'S Chicken</td>\n",
       "      <td>[\"1 small jar chipped beef, cut up\", \"4 boned ...</td>\n",
       "      <td>[\"Place chipped beef on bottom of baking dish....</td>\n",
       "      <td>www.cookbooks.com/Recipe-Details.aspx?id=699419</td>\n",
       "      <td>Gathered</td>\n",
       "      <td>[\"cream of mushroom soup\", \"beef\", \"sour cream...</td>\n",
       "      <td>www.cookbooks.com</td>\n",
       "    </tr>\n",
       "    <tr>\n",
       "      <th>2</th>\n",
       "      <td>Creamy Corn</td>\n",
       "      <td>[\"2 (16 oz.) pkg. frozen corn\", \"1 (8 oz.) pkg...</td>\n",
       "      <td>[\"In a slow cooker, combine all ingredients. C...</td>\n",
       "      <td>www.cookbooks.com/Recipe-Details.aspx?id=10570</td>\n",
       "      <td>Gathered</td>\n",
       "      <td>[\"frozen corn\", \"pepper\", \"cream cheese\", \"gar...</td>\n",
       "      <td>www.cookbooks.com</td>\n",
       "    </tr>\n",
       "    <tr>\n",
       "      <th>3</th>\n",
       "      <td>Chicken Funny</td>\n",
       "      <td>[\"1 large whole chicken\", \"2 (10 1/2 oz.) cans...</td>\n",
       "      <td>[\"Boil and debone chicken.\", \"Put bite size pi...</td>\n",
       "      <td>www.cookbooks.com/Recipe-Details.aspx?id=897570</td>\n",
       "      <td>Gathered</td>\n",
       "      <td>[\"chicken gravy\", \"cream of mushroom soup\", \"c...</td>\n",
       "      <td>www.cookbooks.com</td>\n",
       "    </tr>\n",
       "    <tr>\n",
       "      <th>4</th>\n",
       "      <td>Reeses Cups(Candy)</td>\n",
       "      <td>[\"1 c. peanut butter\", \"3/4 c. graham cracker ...</td>\n",
       "      <td>[\"Combine first four ingredients and press in ...</td>\n",
       "      <td>www.cookbooks.com/Recipe-Details.aspx?id=659239</td>\n",
       "      <td>Gathered</td>\n",
       "      <td>[\"graham cracker crumbs\", \"powdered sugar\", \"p...</td>\n",
       "      <td>www.cookbooks.com</td>\n",
       "    </tr>\n",
       "  </tbody>\n",
       "</table>\n",
       "</div>"
      ]
     },
     "execution_count": 183,
     "metadata": {},
     "output_type": "execute_result"
    }
   ],
   "execution_count": 183
  },
  {
   "metadata": {},
   "cell_type": "markdown",
   "source": "### Pre-processing the dataset",
   "id": "6e05f3bab49974bf"
  },
  {
   "metadata": {
    "ExecuteTime": {
     "end_time": "2025-08-24T00:07:26.668884Z",
     "start_time": "2025-08-24T00:07:25.897092Z"
    }
   },
   "cell_type": "code",
   "source": [
    "# Convert the ingredients to list\n",
    "df_recipies[\"NER\"] = df_recipies[\"NER\"].str.strip(\"[]\").str.replace('\"', '')"
   ],
   "id": "d04bae8dcf9aa97f",
   "outputs": [],
   "execution_count": 184
  },
  {
   "metadata": {
    "ExecuteTime": {
     "end_time": "2025-08-24T00:07:30.117719Z",
     "start_time": "2025-08-24T00:07:30.043615Z"
    }
   },
   "cell_type": "code",
   "source": [
    "# Drop unnecessary columns\n",
    "df_recipies.drop([\"source\", \"site\"], axis=1, inplace=True)\n",
    "\n",
    "df_recipies.head()"
   ],
   "id": "6e600ef5624f69b3",
   "outputs": [
    {
     "data": {
      "text/plain": [
       "                   title                                        ingredients  \\\n",
       "0    No-Bake Nut Cookies  [\"1 c. firmly packed brown sugar\", \"1/2 c. eva...   \n",
       "1  Jewell Ball'S Chicken  [\"1 small jar chipped beef, cut up\", \"4 boned ...   \n",
       "2            Creamy Corn  [\"2 (16 oz.) pkg. frozen corn\", \"1 (8 oz.) pkg...   \n",
       "3          Chicken Funny  [\"1 large whole chicken\", \"2 (10 1/2 oz.) cans...   \n",
       "4     Reeses Cups(Candy)  [\"1 c. peanut butter\", \"3/4 c. graham cracker ...   \n",
       "\n",
       "                                          directions  \\\n",
       "0  [\"In a heavy 2-quart saucepan, mix brown sugar...   \n",
       "1  [\"Place chipped beef on bottom of baking dish....   \n",
       "2  [\"In a slow cooker, combine all ingredients. C...   \n",
       "3  [\"Boil and debone chicken.\", \"Put bite size pi...   \n",
       "4  [\"Combine first four ingredients and press in ...   \n",
       "\n",
       "                                              link  \\\n",
       "0   www.cookbooks.com/Recipe-Details.aspx?id=44874   \n",
       "1  www.cookbooks.com/Recipe-Details.aspx?id=699419   \n",
       "2   www.cookbooks.com/Recipe-Details.aspx?id=10570   \n",
       "3  www.cookbooks.com/Recipe-Details.aspx?id=897570   \n",
       "4  www.cookbooks.com/Recipe-Details.aspx?id=659239   \n",
       "\n",
       "                                                 NER  \n",
       "0  bite size shredded rice biscuits, vanilla, bro...  \n",
       "1  cream of mushroom soup, beef, sour cream, chic...  \n",
       "2  frozen corn, pepper, cream cheese, garlic powd...  \n",
       "3  chicken gravy, cream of mushroom soup, chicken...  \n",
       "4  graham cracker crumbs, powdered sugar, peanut ...  "
      ],
      "text/html": [
       "<div>\n",
       "<style scoped>\n",
       "    .dataframe tbody tr th:only-of-type {\n",
       "        vertical-align: middle;\n",
       "    }\n",
       "\n",
       "    .dataframe tbody tr th {\n",
       "        vertical-align: top;\n",
       "    }\n",
       "\n",
       "    .dataframe thead th {\n",
       "        text-align: right;\n",
       "    }\n",
       "</style>\n",
       "<table border=\"1\" class=\"dataframe\">\n",
       "  <thead>\n",
       "    <tr style=\"text-align: right;\">\n",
       "      <th></th>\n",
       "      <th>title</th>\n",
       "      <th>ingredients</th>\n",
       "      <th>directions</th>\n",
       "      <th>link</th>\n",
       "      <th>NER</th>\n",
       "    </tr>\n",
       "  </thead>\n",
       "  <tbody>\n",
       "    <tr>\n",
       "      <th>0</th>\n",
       "      <td>No-Bake Nut Cookies</td>\n",
       "      <td>[\"1 c. firmly packed brown sugar\", \"1/2 c. eva...</td>\n",
       "      <td>[\"In a heavy 2-quart saucepan, mix brown sugar...</td>\n",
       "      <td>www.cookbooks.com/Recipe-Details.aspx?id=44874</td>\n",
       "      <td>bite size shredded rice biscuits, vanilla, bro...</td>\n",
       "    </tr>\n",
       "    <tr>\n",
       "      <th>1</th>\n",
       "      <td>Jewell Ball'S Chicken</td>\n",
       "      <td>[\"1 small jar chipped beef, cut up\", \"4 boned ...</td>\n",
       "      <td>[\"Place chipped beef on bottom of baking dish....</td>\n",
       "      <td>www.cookbooks.com/Recipe-Details.aspx?id=699419</td>\n",
       "      <td>cream of mushroom soup, beef, sour cream, chic...</td>\n",
       "    </tr>\n",
       "    <tr>\n",
       "      <th>2</th>\n",
       "      <td>Creamy Corn</td>\n",
       "      <td>[\"2 (16 oz.) pkg. frozen corn\", \"1 (8 oz.) pkg...</td>\n",
       "      <td>[\"In a slow cooker, combine all ingredients. C...</td>\n",
       "      <td>www.cookbooks.com/Recipe-Details.aspx?id=10570</td>\n",
       "      <td>frozen corn, pepper, cream cheese, garlic powd...</td>\n",
       "    </tr>\n",
       "    <tr>\n",
       "      <th>3</th>\n",
       "      <td>Chicken Funny</td>\n",
       "      <td>[\"1 large whole chicken\", \"2 (10 1/2 oz.) cans...</td>\n",
       "      <td>[\"Boil and debone chicken.\", \"Put bite size pi...</td>\n",
       "      <td>www.cookbooks.com/Recipe-Details.aspx?id=897570</td>\n",
       "      <td>chicken gravy, cream of mushroom soup, chicken...</td>\n",
       "    </tr>\n",
       "    <tr>\n",
       "      <th>4</th>\n",
       "      <td>Reeses Cups(Candy)</td>\n",
       "      <td>[\"1 c. peanut butter\", \"3/4 c. graham cracker ...</td>\n",
       "      <td>[\"Combine first four ingredients and press in ...</td>\n",
       "      <td>www.cookbooks.com/Recipe-Details.aspx?id=659239</td>\n",
       "      <td>graham cracker crumbs, powdered sugar, peanut ...</td>\n",
       "    </tr>\n",
       "  </tbody>\n",
       "</table>\n",
       "</div>"
      ]
     },
     "execution_count": 185,
     "metadata": {},
     "output_type": "execute_result"
    }
   ],
   "execution_count": 185
  },
  {
   "metadata": {},
   "cell_type": "markdown",
   "source": "### Extract the ingredients vocab",
   "id": "1fce4e735d789cf5"
  },
  {
   "metadata": {
    "ExecuteTime": {
     "end_time": "2025-08-24T00:07:37.455176Z",
     "start_time": "2025-08-24T00:07:33.361437Z"
    }
   },
   "cell_type": "code",
   "source": [
    "ingredients_list = (\n",
    "    df_recipies[\"NER\"]\n",
    "        .dropna()                 # drop missing cells\n",
    "        .str.split(',')           # split each string on commas\n",
    "        .explode()                # turn lists into rows\n",
    "        .str.strip()              # trim spaces around each item\n",
    "        .str.replace(\"/\", \"\")     # replace \" with nothing\n",
    "        .str.lower()              # all to lower case\n",
    "        .loc[lambda s: s.ne('')]  # remove empty strings (if any)\n",
    "        .tolist()                 # back to a single Python list\n",
    ")\n",
    "unique_ingredients_list = list(set(ingredients_list))\n",
    "unique_ingredients_list"
   ],
   "id": "b062663a3efa9721",
   "outputs": [
    {
     "data": {
      "text/plain": [
       "['seasons zesty',\n",
       " 'boloney',\n",
       " 'bagof spanish yellow rice',\n",
       " 'andes peppermint baking chips',\n",
       " 'filberts ground',\n",
       " 'lemon sqeeze',\n",
       " 'coconut cake frosting',\n",
       " 'recipe whipped cream',\n",
       " 'grain seedy crackers',\n",
       " 'hemp hearts manitoba',\n",
       " 'teleras',\n",
       " 'shiitake soaking liquid',\n",
       " 'cooking minute rice',\n",
       " 'quartered cherry tomatoes',\n",
       " 'using sharp knife',\n",
       " 'marrow gut',\n",
       " 'combine ingredients',\n",
       " 'chicken andouille sausage',\n",
       " 'green sherbet',\n",
       " 'greek yoghurt natural',\n",
       " 'olive garden italian dressing',\n",
       " 'choke',\n",
       " 'flat -leaf parsley',\n",
       " 'tumbleweed shoots',\n",
       " \"al's barbecue sauce\",\n",
       " 'apple wine vinegar',\n",
       " 'black lumpfish roe',\n",
       " 'knorr fiesta',\n",
       " 'maggi vegetarian vegetable flavor',\n",
       " 'shallots white pepper',\n",
       " 'mixed fruit blend',\n",
       " 'soy flaxseed tortilla chips',\n",
       " 'vinagar',\n",
       " 'non fat vanilla',\n",
       " 'unripe nangka',\n",
       " 'very ripe pureed bananas',\n",
       " 'bella cucina',\n",
       " 'jalepenos including seeds',\n",
       " 'weight cured serrano',\n",
       " 'either green olive',\n",
       " 'orange and onion',\n",
       " 'betty crocker super',\n",
       " 'cajun-style crab boil seasoning',\n",
       " 'fish yellowfin',\n",
       " 'non dairy milk choice',\n",
       " 'rindless smoked bacon',\n",
       " 'chickpeas aka garbanza beans',\n",
       " 'cubeb pepper',\n",
       " 'additional cracker meal',\n",
       " 'demi gloss',\n",
       " 'picapepper',\n",
       " 'loose cilantro',\n",
       " 'overproof',\n",
       " 'crunchie peanut butter',\n",
       " 'oats either',\n",
       " 'beef samosas',\n",
       " 'peperivka spiced whiskey',\n",
       " 'apple should',\n",
       " 'chocolate:',\n",
       " 'covered soup kettle',\n",
       " 'chilly chili pepper',\n",
       " 'bittersweet chocolatechopped',\n",
       " 'cooking spray',\n",
       " 'light white tuna',\n",
       " 'crabs legs',\n",
       " 'montepulciano dabruzzo red wine',\n",
       " 'cilantro green coriander',\n",
       " 'crusty kaiser rolls',\n",
       " 'based sauce',\n",
       " 'use another firm white fish',\n",
       " 'cream cheese',\n",
       " 'crispy jambon',\n",
       " 'aussie cheese fries',\n",
       " 'crottin de chavignol',\n",
       " 'mixed root vegetables',\n",
       " 'of breadcrums',\n",
       " 'chuck ribs',\n",
       " 'armor meat',\n",
       " 'vinella',\n",
       " 'pickle halves',\n",
       " 'nuts of',\n",
       " 'nonsudsing ammonia',\n",
       " 'blue agave',\n",
       " 'bulgur wheat quick-cooking',\n",
       " 'standing roast',\n",
       " 'pimenta',\n",
       " 'dry roux mix',\n",
       " 'crumbled saffron',\n",
       " 'stonewall kitchen country ketchup',\n",
       " 'fresh beancurd',\n",
       " 'this sauce',\n",
       " 'shots tamarind simple syrup',\n",
       " 'roll kind',\n",
       " 'low-fat mozzarella cheese shredded',\n",
       " 'barley shochu',\n",
       " 'very hot sausage',\n",
       " 'whole m ilk',\n",
       " 'orange slices and cinnamon',\n",
       " 'espresso-ground coffee',\n",
       " 'artichokes fresh',\n",
       " 'yourself',\n",
       " 'raspberry liquid',\n",
       " 'birds eye chile',\n",
       " 'fluid pepperoni',\n",
       " 'ground chocolate wafers',\n",
       " 'cinnamon-raisin bread',\n",
       " 'normal flour',\n",
       " 'steamed octopus',\n",
       " 'oil of some kind',\n",
       " 'canmedium green enchilada sauce',\n",
       " 'cold strained leftover corned beef broth',\n",
       " 'hot creamed horseradish',\n",
       " 'red grapefruit juice',\n",
       " 'light firm silken',\n",
       " 'armagnac',\n",
       " 'lemon juice optionally',\n",
       " 'store-bought granola',\n",
       " 'galangal slices',\n",
       " 'fast-fry',\n",
       " 'papadums',\n",
       " 'sweet shortcrust',\n",
       " 'ground smoked tellicherry black pepper',\n",
       " 'puree tomatoes',\n",
       " 'tomato sauce cold',\n",
       " 'cream pie',\n",
       " 'overholt rye',\n",
       " 'fillet - skinless',\n",
       " 'flaked smoked trout',\n",
       " 'creamer soya',\n",
       " 'dark lager',\n",
       " 'thin slices queso blanco',\n",
       " 'grated cheese of',\n",
       " 'buttered orzo pasta',\n",
       " 'bite sized cauliflowerets',\n",
       " 'c.parmesan cheese',\n",
       " 'packets mushrooms',\n",
       " 'sprouted buckwheat groats',\n",
       " 'grainy style mustard',\n",
       " 'cake ang fd',\n",
       " 'oelek sambal',\n",
       " 'sweet red bell peppers seeds',\n",
       " 'chocolate fudge icing',\n",
       " 'cansfresh oysters',\n",
       " 'tenderloin roast',\n",
       " 'cocktail sourdough',\n",
       " 'knorr cream',\n",
       " \"unwrapped reese's\",\n",
       " 'ones japanese',\n",
       " 'cook grits',\n",
       " 'almonds slice',\n",
       " 'oregano black pepper',\n",
       " 'unpeeled russet potatoes',\n",
       " 'bread - baguettes',\n",
       " 'styrofoam plates',\n",
       " 'chocolate bittersweet chips',\n",
       " 'couple of big',\n",
       " 'bowknots',\n",
       " 'cranberries raspberries',\n",
       " 'fresh raspberries mixed',\n",
       " 'currant flavored',\n",
       " 'pre-',\n",
       " 'ovenproof skillet',\n",
       " 'crushed ice apricot',\n",
       " 'cinnamnon',\n",
       " 'herb vinegar',\n",
       " 'inches jalapenos',\n",
       " 'evaporated milk',\n",
       " 'chardonnay cream sauce',\n",
       " 'corn unhusked',\n",
       " 'red holiday',\n",
       " 'caramel dip',\n",
       " 'mayonnaise tortilla chips',\n",
       " 'spring onionsd',\n",
       " 'chicken cutlets vegan',\n",
       " 'cabbage soup',\n",
       " 'pomegranite vinegrette',\n",
       " 'white chocolate baking squares',\n",
       " 'cornmeal pastry',\n",
       " 'italian-style risotta rice',\n",
       " 'fluid ounces lager beer',\n",
       " 'chervregoat cheese',\n",
       " 'wedges watermelon',\n",
       " 'of crabmeat',\n",
       " 'quinoa egyptian rice',\n",
       " 'ground grains of paradise',\n",
       " 'fennell',\n",
       " 'peppercorns crushed',\n",
       " 'espresso whipped cream',\n",
       " 'skin-on',\n",
       " 'ground calf liver',\n",
       " 'onion $',\n",
       " 'lemon juice from freash',\n",
       " 'chambord raspberry',\n",
       " 'pomelo juice',\n",
       " 'black ripe chpped olives',\n",
       " 'mushroom sauce mix',\n",
       " 'raisin pumpkin',\n",
       " 'lump crab meat',\n",
       " 'spray coating',\n",
       " 'italian breadstick',\n",
       " 'toamto soup',\n",
       " 'spice islands ground ginger',\n",
       " 'creole meunier sauce',\n",
       " 'layer of onion slices',\n",
       " 'thai oil',\n",
       " 'filling key',\n",
       " 'chile powder',\n",
       " 'lagered turkey chili',\n",
       " 'hoagie rolls',\n",
       " 'ounce salami',\n",
       " 'bottlepale lager ale',\n",
       " 'potatoes nice',\n",
       " 'sunflower seedskernals',\n",
       " 'of smooth',\n",
       " 'fresh organic',\n",
       " 'rainbow rotini pasta',\n",
       " 'calamari tentacles',\n",
       " 'fireweed juice',\n",
       " 'stem kale',\n",
       " 'cones',\n",
       " 'caraway seet',\n",
       " 'baskets blackberry',\n",
       " 'oriental style',\n",
       " 'shots brandy',\n",
       " 'jet-puffed starmallows marshmallow',\n",
       " 'cilantro leves',\n",
       " '\\\\u2019s meat',\n",
       " 'shortening criso',\n",
       " 'chocolate-covered peppermint pattie',\n",
       " 'chilpotle powder',\n",
       " 'freshly ground espresso coffee',\n",
       " 'dipping sauce===',\n",
       " 'parmesan mashed potatoes',\n",
       " 'lg.tomotoes',\n",
       " 'fresh squirrels',\n",
       " 'green anise',\n",
       " 'recipe comeback sauce',\n",
       " 'fresh green',\n",
       " 'bottles of tomato basil sauce',\n",
       " 's&amp;p',\n",
       " 'pork sugar',\n",
       " 'del monte cream',\n",
       " 'white chocolate melting',\n",
       " 'chickpea fritters',\n",
       " 'sclopps',\n",
       " 'packagepre',\n",
       " 'fresh thai basil [+',\n",
       " 'lemon slices fresh',\n",
       " 'plain jello',\n",
       " 'ginger-sesame',\n",
       " 'firm chinese',\n",
       " 'ounce.can',\n",
       " 'free-range',\n",
       " 'sarrano peppers',\n",
       " 'shallow ceramic',\n",
       " 'handful basil',\n",
       " 'pork stomach',\n",
       " 'hot giardiniera mixed vegetables',\n",
       " 'mild natural cheddar cheese',\n",
       " 'preserved truffles',\n",
       " 'cranberry-flavored liqueur',\n",
       " 'coffee cream cheese',\n",
       " 'manzanilla olives',\n",
       " 'red jujube',\n",
       " 'sprouts beans',\n",
       " 'vanilla bean]',\n",
       " 'spice italian',\n",
       " 'green pigeon peas',\n",
       " 'dark rum rolls',\n",
       " 'jersey tomato',\n",
       " 'amount of lemon extract',\n",
       " 'chutney peach',\n",
       " 'cheese valtellina casera dop',\n",
       " 'extra vergine',\n",
       " 'slightly charred',\n",
       " 'simple creations',\n",
       " 'chive stem',\n",
       " 'packagejell-o chocolate pudding',\n",
       " 'sitake mushroom',\n",
       " 'crusty country italian bread',\n",
       " 'drizzle of lemon juice',\n",
       " 'store-bought harissa',\n",
       " 'barbecue sauce oriental',\n",
       " 'whole beef brisket',\n",
       " 'almond ice cream base',\n",
       " 'solid white shortening',\n",
       " 'thank you brand vanilla pudding',\n",
       " 'cavendar',\n",
       " 'ronzoni',\n",
       " 'pretzel squares',\n",
       " 'hot dog burns',\n",
       " 'celery root knob',\n",
       " 'blackberry sherbet',\n",
       " 'red onion salsa',\n",
       " 'canola safflower oil',\n",
       " 'water boil toughter',\n",
       " 'understanding and mutual',\n",
       " 'kourkoubinia',\n",
       " 'hot chili peppers powder',\n",
       " 'peanut-shaped',\n",
       " 'cold whip med',\n",
       " 'heirloom grits',\n",
       " 'freah squeezed lemon juice',\n",
       " 'prime new',\n",
       " 'nuts grape',\n",
       " 'water pastry',\n",
       " 'thoroughly mashed clove garlic',\n",
       " 'brown vinegar',\n",
       " 'fresh picked cilantro',\n",
       " 'mesa grill',\n",
       " 'glowing embers',\n",
       " 'tuna incl water',\n",
       " 'pureed red onions',\n",
       " '(wine',\n",
       " 'coffee toffee',\n",
       " 'egg shell noodles',\n",
       " 'red fruit',\n",
       " 'water cilantro',\n",
       " 'monterey albacore',\n",
       " 'macaroni aldente',\n",
       " 'freshly-ground cinnamon',\n",
       " 'cinnamonsugar',\n",
       " 'chicken broth depending',\n",
       " 'filling ravioli',\n",
       " 'peach ale',\n",
       " 'mint dried',\n",
       " 'nonfat process cream cheese',\n",
       " 'fresh cooked green beans',\n",
       " 'honey roasted',\n",
       " 'rosmarino',\n",
       " 'gold powder',\n",
       " 'lemon or onion',\n",
       " 'flaky sea salt',\n",
       " 'bottled sweet plum sauce',\n",
       " '* sometimes',\n",
       " 'caerphilly',\n",
       " 'fresh squeezed lemons',\n",
       " 'italian-stlye tomatoes',\n",
       " 'thin slices green bell pepper',\n",
       " 'fillet of fish say trevally',\n",
       " 'thickness zucchinis',\n",
       " 'preserved duck eggs',\n",
       " 'pesto mix',\n",
       " 'white portion',\n",
       " 'white wheat pizza crust',\n",
       " 'malabar spinach leaves',\n",
       " 'deli buffalo',\n",
       " 'jacket potatoes',\n",
       " 'shortening cold',\n",
       " 'farinheira wheat',\n",
       " 'thin slices parmesan cheese',\n",
       " 'tomatoe ketchup',\n",
       " 'cayenne pepper(or',\n",
       " 'neutral flavored cooking oil',\n",
       " 'lukearm water',\n",
       " 'fans',\n",
       " 'help file',\n",
       " 'dry red burgundy wine',\n",
       " 'coconut creamer',\n",
       " 'passion fruit nectar',\n",
       " 'tamarind jus',\n",
       " 'broccoli florets large',\n",
       " 'cheesecloth to',\n",
       " 'fish soup base',\n",
       " 'favorite toppings',\n",
       " 'caesar style',\n",
       " 'chicken-like',\n",
       " 'handful stale bread',\n",
       " 'plates beef short ribs',\n",
       " 'lime freshly',\n",
       " 'naan rolls',\n",
       " 'roses sweetened lime juice',\n",
       " 'vegetable crudit\\\\u00e9s',\n",
       " 'packetgoya chicken',\n",
       " 'fresh cracked',\n",
       " 'cilantro shallots',\n",
       " 'mashed ripe figs',\n",
       " 'low-cal strawberry jello',\n",
       " 'asian ratatouille',\n",
       " 'ounces wheat starch',\n",
       " 'rye rolls',\n",
       " 'beef of choice',\n",
       " 'framboise',\n",
       " 'tender sun-dried tomatoes',\n",
       " 'italian pasta salad',\n",
       " 'tooth of garlic',\n",
       " 'warm cooked brown rice',\n",
       " 'coconut secret',\n",
       " 'recipe pizzocheri',\n",
       " 'bottles ginger beer',\n",
       " 'caramel nuts',\n",
       " 'packets duck sauce',\n",
       " 'avovado',\n",
       " 'clear tape',\n",
       " 'creamettes macaroni',\n",
       " 'paw-paw',\n",
       " \"basia's italian seasoning\",\n",
       " 'basil chiffenade',\n",
       " 'gram crackers',\n",
       " 'ryvita',\n",
       " 'firm white boneless fish',\n",
       " 'hp sauce',\n",
       " \"orange's worth\",\n",
       " \"bottlessweet baby ray's\",\n",
       " 'rapid rise yeast',\n",
       " 'hair coleslaw',\n",
       " 'packagebroccoli',\n",
       " 'choppedonions',\n",
       " 'shiro-miso',\n",
       " 'brown onions- cooking onions',\n",
       " 'brooks chili hot beans',\n",
       " 'mint-flavored semisweet chocolate piece',\n",
       " 'noodles wheat',\n",
       " 'cajun poultry seasoning',\n",
       " 'sweet potato flour',\n",
       " 'rub seasonings',\n",
       " 'pureed pineapple',\n",
       " 'biryani leaves',\n",
       " 'gallon red',\n",
       " 'broccoli normandy',\n",
       " 'flying fish',\n",
       " 'jigger hazelnut liqueur',\n",
       " 'own whitewheat bread',\n",
       " 'bosc pears',\n",
       " 'basic aioli',\n",
       " 'broken rolls',\n",
       " 'horseradish puree',\n",
       " 'italian-style pork sausage',\n",
       " 'hair coils',\n",
       " 'unpeeled japanese eggplant',\n",
       " \"campbell's cream of chicken soup\",\n",
       " 'red ribbons',\n",
       " 'callo greens',\n",
       " 'multi-colored baby heirloom tomatoes',\n",
       " 'baby thai coconut meat',\n",
       " 'pretty finely zha',\n",
       " 'range organic egg yolks',\n",
       " 'tomatoes including juice',\n",
       " 'chilli dreid',\n",
       " 'garlic mushroom',\n",
       " 'chinese black tea bags',\n",
       " 'packagekosher franks',\n",
       " 'fresh cayenne chile',\n",
       " 'chocolate cherry',\n",
       " 'semi sundried tomato',\n",
       " 'lots ice',\n",
       " 'nutty topping',\n",
       " 'steamed asparagus',\n",
       " 'thawed raspberries',\n",
       " 'fresh green pepper',\n",
       " 'chamomile-lavender loose-leaf tea',\n",
       " 'fresh fennel sprigs',\n",
       " 'dry wheat noodles',\n",
       " 'turmeric fingers',\n",
       " 'evangeline sauce',\n",
       " 'vanilla-flavored black tea',\n",
       " 'cheese with dill',\n",
       " 'vinegar chinese black',\n",
       " 'chinese stew meat',\n",
       " 'florida orange slices',\n",
       " 'cornmael',\n",
       " 'thing of stuff',\n",
       " 'lemon cake mix',\n",
       " 'portobello sauce',\n",
       " 'fresh washed raspberries',\n",
       " 'gfcf margarine',\n",
       " 'petite frozen green pea',\n",
       " 'choy cabbages',\n",
       " 'minute birds',\n",
       " 'black peppercorns freshly cracked',\n",
       " 'root beer flavoring',\n",
       " 'lean grnd pork',\n",
       " 'jarred piquillo peppers',\n",
       " 'fonseca',\n",
       " 'recipe',\n",
       " 'honey sunshine cereal',\n",
       " 'syrup anise',\n",
       " 'innards',\n",
       " 'aleppo chili flakes',\n",
       " 'cold organic shortening',\n",
       " 'glace fruits',\n",
       " 'cream brie cheese',\n",
       " 'festive decor',\n",
       " 'glazed fruit',\n",
       " 'almond bark white',\n",
       " 'eg.carrot',\n",
       " 'birds eye frozen peas',\n",
       " \"'s krazy salt\",\n",
       " 'vegetable cooking oil',\n",
       " 'bamboo shoots daikon',\n",
       " 'chinese chile paste',\n",
       " 'luxury mincemeat',\n",
       " 'nonstick frying pan',\n",
       " 'cooking cocoa',\n",
       " 'rice wholegrain flakes',\n",
       " 'onion-almond paste',\n",
       " 'vanilla oil powdered sugar cinnamon syrup',\n",
       " 'canned mushroom',\n",
       " 'monster handful',\n",
       " 'hard goat cheese',\n",
       " 'poulet',\n",
       " 'saffron threads ground',\n",
       " 'egyptian pasta',\n",
       " 'cake board',\n",
       " 'fajita spice blend',\n",
       " 'frozen baby onions',\n",
       " 'red-wine',\n",
       " 'koyadofu',\n",
       " 'remaining lemon syrup',\n",
       " 'gwyneth',\n",
       " 'chill heavy cream',\n",
       " 'maraschino cherry dessert topping',\n",
       " 'chinese sesame paste',\n",
       " 'chicken meat rotisserie',\n",
       " 'ground toasted pumpkin seeds',\n",
       " 'pork for',\n",
       " 'stewingfryer chicken',\n",
       " 'unflavored pedialyte',\n",
       " 'valencia orange juice',\n",
       " 'ghee for',\n",
       " \"pork shoulder payne's family farms\",\n",
       " 'avocado cream',\n",
       " 'flaked roast',\n",
       " 'gourd karela',\n",
       " 'window cleaning',\n",
       " 'jalapeno chilie peppers',\n",
       " 'blueberry granola',\n",
       " 'thin slice fully cooked ham',\n",
       " 'barbecue grill',\n",
       " 'chatfields',\n",
       " 'grated cheese target',\n",
       " 'skinless meat',\n",
       " 'crunchy fish',\n",
       " 'no-',\n",
       " 'tasteless salad oil',\n",
       " 'soysauce',\n",
       " 'radicchio -',\n",
       " 'fingerling potato',\n",
       " 'thai red chili paste',\n",
       " 'gruyere packed',\n",
       " '~for the crust',\n",
       " 'marshmallow mint',\n",
       " 'turkey shaved',\n",
       " 'cold cooked macaroni',\n",
       " 'lemon mint tzatziki',\n",
       " 'chocolate covered crunchy',\n",
       " 'lightly packed fresh mint leaves',\n",
       " 'milk chantilly',\n",
       " 'green baby',\n",
       " 'low-fat sharp',\n",
       " 'watermelon rind pickles',\n",
       " 'fresh chile',\n",
       " 'sweeteners',\n",
       " 'cold sprite',\n",
       " 'frozen whipped nondairy dessert topping',\n",
       " 'cammambre',\n",
       " 'chickpeas -sorted',\n",
       " 'creole seasoning blend',\n",
       " 'black dough',\n",
       " 'of albacore',\n",
       " 'just cooked egg noodles',\n",
       " 'custard flour',\n",
       " 'red dried beans',\n",
       " 'lrg apples',\n",
       " 'brisket smoke sauce',\n",
       " 'turkey hot dogs',\n",
       " 'wine merlot',\n",
       " 'caramel pecan sweet roll',\n",
       " 'ground curcuma',\n",
       " 'ham bone from cured ham',\n",
       " 'semilla de cilantro',\n",
       " 'colby monterey cheddar cheese',\n",
       " 'freshly squeezed orang juice',\n",
       " 'ida country style',\n",
       " 'ponce',\n",
       " 'containers yoplait strawberry yogurt',\n",
       " 'cold-',\n",
       " \"fisher's cashews\",\n",
       " 'serano chili',\n",
       " 'handful your favorite spring vegetables',\n",
       " 'handful bengal gram',\n",
       " 'bread - thin slice',\n",
       " 'italian meatballs',\n",
       " 'unsalted sweet butter',\n",
       " 'lard unrendered',\n",
       " 'chuck roasts',\n",
       " 'cornmeal base',\n",
       " 'sweet green pepper',\n",
       " 'bay leaves.',\n",
       " 'cooked white chicken meat',\n",
       " 'could include',\n",
       " 'cooking apples',\n",
       " 'ciabata bread',\n",
       " 'scewers',\n",
       " 'handful of green leaves',\n",
       " 'marshmallow cream frosting',\n",
       " 'whole wheat white bread',\n",
       " 'juice-',\n",
       " 'brick tillamook special reserve',\n",
       " 'pineapple frosting',\n",
       " 'favorite whiskey',\n",
       " 'lemon juice or vinegar',\n",
       " '# lean ground beef',\n",
       " 'fresh thai red chili',\n",
       " 'lemon caper',\n",
       " 'unsweetened hazelnut paste',\n",
       " 'lime sorbet',\n",
       " 'spoons cider vinegar',\n",
       " 'pumpkin canned puree',\n",
       " 'veg shortening',\n",
       " 'batch grenadine frosting',\n",
       " 'smoky gouda cheese',\n",
       " 'iceingsugar',\n",
       " 'white bell peppers',\n",
       " 'walnut piece',\n",
       " 'kraft cracker barrel',\n",
       " 'a meat',\n",
       " 'hazelnut cream',\n",
       " 'icing maple',\n",
       " 'cranberry vinaigrette',\n",
       " 'well water',\n",
       " 'bananas over',\n",
       " 'moon-charged',\n",
       " ' okra',\n",
       " 'dinkel wholewheat flour',\n",
       " 'bags meat ravioli',\n",
       " 'costcos- mango',\n",
       " 'chinese style firm tofu',\n",
       " 'vanilla coconut milk ice cream',\n",
       " 'separate bowl',\n",
       " 'corn - drained',\n",
       " 'barilla mezzi rigatoni',\n",
       " 'lo-fat plain yogurt',\n",
       " 'sole fillets',\n",
       " 'sweet fennel seeds',\n",
       " 'ground caradomom',\n",
       " 'packageof italian mixed vegetables',\n",
       " \"red thai bird's eye chile\",\n",
       " 'lowers',\n",
       " 'garden vegetable mix',\n",
       " 'packageprepared mirepoix',\n",
       " 'chickn',\n",
       " 'strawberry low-fat yogurt',\n",
       " 'warq',\n",
       " 'almond or',\n",
       " 'romano cheeses',\n",
       " 'bernardin original fruit',\n",
       " 'enough vinegar',\n",
       " 'broccoli au',\n",
       " 'canpillsbury grands ready',\n",
       " 'serrano chimichurri',\n",
       " 'slice wheat sandwich bread',\n",
       " 'woodpigeon',\n",
       " 'moliterno tartufo',\n",
       " 'whipped light chive & onion cream cheese',\n",
       " 'torn kaffir lime',\n",
       " 'penna',\n",
       " 'new cream',\n",
       " 'plum sauce',\n",
       " 'crusty fresh breadcrumb',\n",
       " 'milk powder non',\n",
       " 'light colored rum',\n",
       " 'ginger dried',\n",
       " 't molasses',\n",
       " 'lemon orange',\n",
       " 'grain vinegar',\n",
       " 'mandarin vodka',\n",
       " 'applesuace',\n",
       " 'freshly squeezed ginger',\n",
       " 'round pie crusts',\n",
       " 'dutch baby carrots',\n",
       " 'madras-style curry powder',\n",
       " 'frozen organic blackberries',\n",
       " 'celestial seasonings country peach',\n",
       " 'ropes',\n",
       " 'natural fine sugar',\n",
       " 'fresh by',\n",
       " 'frzn lemonade',\n",
       " 'julienne strips swiss cheese',\n",
       " 'thin slices ripe tomatoes',\n",
       " 'colored frosting',\n",
       " 'liquid of black beans',\n",
       " 'damson',\n",
       " 'kitchenaid pie pastry',\n",
       " 'sweet pimenton',\n",
       " 'blocks sharp',\n",
       " 'cocoa powdered bittersweet',\n",
       " 'neighborly love',\n",
       " 'frzn noodles',\n",
       " 'soy-free solid shortening',\n",
       " 'wax potatoes',\n",
       " 'calif.',\n",
       " 'grains of cayenne',\n",
       " 'canned crisco',\n",
       " 'wild alaskan sockeye salmon',\n",
       " 'lemon untreated',\n",
       " 'wolfgang',\n",
       " 'toban djan',\n",
       " 'handvo flour',\n",
       " 'frzn turnips',\n",
       " 'sour green tamarind',\n",
       " 'castelveltrano',\n",
       " 'tomato [',\n",
       " 'fennel relish',\n",
       " 'nuts again cashews',\n",
       " 'curd recipe passionfruit',\n",
       " 'tajin fruit seasoning',\n",
       " 'cake boards',\n",
       " \"pomona's universal\",\n",
       " \"johnson's frozen chili brick\",\n",
       " 'yellow cooking onions',\n",
       " 'grated cheese mozzarella',\n",
       " 'satsuma orange butter sauce',\n",
       " 'ground sweet red paprika',\n",
       " 'shreadded cheese',\n",
       " \"fresh baker's yeast\",\n",
       " 'dark green virgin olive oil',\n",
       " 'peck apples',\n",
       " 'or leaves',\n",
       " 'vanilla-flavor nonfat yogurt',\n",
       " 'sabra sauce ingredients',\n",
       " 'bishops weed',\n",
       " 'blackened',\n",
       " 'tomato sauce water',\n",
       " 'canadian',\n",
       " 'chunky picante sauce',\n",
       " 'mozterella cheese',\n",
       " 'lasagna noodles curly',\n",
       " 'aspragus',\n",
       " 'turkey tails',\n",
       " 'cake mix which calls for oil',\n",
       " 'sumedang',\n",
       " 'white sparkling decorator sugar',\n",
       " 'noodles no',\n",
       " 'ginger sesame paste',\n",
       " 'gerber carrots',\n",
       " 'o garlic',\n",
       " 'red chiki pepper',\n",
       " 'yee',\n",
       " 'menta',\n",
       " 'chalupa shell',\n",
       " 'liquor of your choice',\n",
       " 'sumac syrup',\n",
       " 'lemongrass pur\\\\u00e9e',\n",
       " 'powdered macaroons',\n",
       " 'parmesan fresh',\n",
       " 'pasta vinaigrette',\n",
       " 'zest of half a large',\n",
       " 'maple glazed ham',\n",
       " 'recipe mushroom',\n",
       " 'mostaccioli pasta',\n",
       " 'vegetarian sausage crumbles',\n",
       " 'dressing',\n",
       " 'roman noodles',\n",
       " 'drops saffron',\n",
       " 'poaching sauce',\n",
       " 'mixed fruit strawberries',\n",
       " 'lime rinds reserved',\n",
       " \"lowry's seasoning\",\n",
       " 'beef kidney fat',\n",
       " 'skillet measuring',\n",
       " 'caps only',\n",
       " 'mirletons',\n",
       " 'parseley',\n",
       " 'brown sugar cinnamon syrup',\n",
       " 'veallamb stock',\n",
       " 'kashmiri chilies',\n",
       " 'vanilla essence  extract',\n",
       " 'salad fixins',\n",
       " 'slightly warm broth',\n",
       " 'chocolate-flavored syrup',\n",
       " 'smallish cucumber',\n",
       " 'eggbeater',\n",
       " 'cremeux',\n",
       " 'liquid chicken broth concentrate',\n",
       " 'your favourite vinaigrette',\n",
       " 'italian frying',\n",
       " 'sort grain rice',\n",
       " 'guyere cheese',\n",
       " 'greek light yogurt',\n",
       " 'sweet and low',\n",
       " 'mild salami',\n",
       " 'kashi(r',\n",
       " 'strawberries handfull',\n",
       " 'dixie paper',\n",
       " 'beef brothstock',\n",
       " 'white wine court bouillon',\n",
       " 'michiu rice wine',\n",
       " 'frozen galangal',\n",
       " 'green bean starch',\n",
       " 'bajan seasoning',\n",
       " 'white spelt penne',\n",
       " 'handful of leftover corn from corn',\n",
       " 'frozen butter beans',\n",
       " 'couple shakes tabasco',\n",
       " 'chicory red',\n",
       " 'fresh satsuma orange juice',\n",
       " 'stew beef meat',\n",
       " 'tortillasa',\n",
       " 'bbq sauce +',\n",
       " 'bagfrozen zucchini',\n",
       " 'packets sazon seasoning with coriander',\n",
       " 'hikiwari natto',\n",
       " 'vegetable bouillon cubes. i',\n",
       " 'frozen organic raspberries',\n",
       " 'loin lamb chops',\n",
       " 'parsley roots',\n",
       " \"bbq sauce sweet baby ray's honey\",\n",
       " '* rice flour',\n",
       " 'buckeye soup n chili crackers',\n",
       " '\\\\u00bc inch',\n",
       " 'semi-sweet good',\n",
       " 'sm.cabbage',\n",
       " 'links of merguez sausage',\n",
       " 'herb of choice',\n",
       " 'sherry vinegar',\n",
       " 'enrollado noodles',\n",
       " 'chocolate mousse buttercream',\n",
       " 'pack paneer',\n",
       " 'cream biscuit dough',\n",
       " 'fluid ounces chicken stock',\n",
       " 'italian colored sprinkles',\n",
       " 'curing liquid',\n",
       " 'moscato sweet red wine',\n",
       " 'chickens cooked',\n",
       " 'fresh sage',\n",
       " 'bearnaise sauce',\n",
       " 'assam tea',\n",
       " 'fresh meat',\n",
       " 'corned beef cooking liquid',\n",
       " 'ginger level',\n",
       " 'pork fresh',\n",
       " 'candiet pack grapefruit section',\n",
       " 'tarragon ground',\n",
       " 'lo-fat cottage cheese',\n",
       " 'yogurt plaingreeksoyregular',\n",
       " 'lewis lye',\n",
       " 'either regular',\n",
       " 'very hot water',\n",
       " 'king edward potato',\n",
       " 'dark chocolate pudding',\n",
       " 'nut mix \\\\u2013',\n",
       " 'freshly cooked brown rice',\n",
       " 'sambal tomat',\n",
       " 'rosemary simple syrup',\n",
       " 'carrots',\n",
       " 'cinnamon cereal',\n",
       " 'packagegarlic',\n",
       " 'potato puree sweet',\n",
       " 'samboosa leaves',\n",
       " 'fruit pie mix',\n",
       " 'stalks gai lan',\n",
       " 'green chille',\n",
       " 'packagejell-o raspberry gelatin powder',\n",
       " 'jerky spice works',\n",
       " 'tiare flowers',\n",
       " 'recipe of sesame hemp turkey bites',\n",
       " 'pasta salad noodles',\n",
       " 'rub \\\\u00e2\\\\u0080\\\\u0093 chili powder',\n",
       " 'regular bran cereal',\n",
       " 'land-o',\n",
       " 'shot rye whiskey',\n",
       " 'substitute regular tomato sauce',\n",
       " 'tart kumquats',\n",
       " 'creamparsley',\n",
       " 'lasagne fresh',\n",
       " 'weight brown mushrooms',\n",
       " 'cracker crumbs buttered',\n",
       " 'sugar-free black cherry jell-o',\n",
       " 'sanding sugar clear',\n",
       " 'my spice rub',\n",
       " 'jarred jalapenos',\n",
       " 'your favorite sandwich',\n",
       " 'celery branches',\n",
       " 'italian mild sausage',\n",
       " 'hot green chile',\n",
       " 'cherry-sumac',\n",
       " 'homemade chili',\n",
       " 'soave',\n",
       " 'celery hearts',\n",
       " 'frozen fillo dough',\n",
       " 'choice oil',\n",
       " 'licorice twists',\n",
       " 'mochaccino yogurt',\n",
       " 'knorr aromat seasoning',\n",
       " 'storebought icing',\n",
       " 'pre-cooked mashed potatoes',\n",
       " 'yellow mustard powder',\n",
       " 'beef chuck cross-rib roasts',\n",
       " 'heavy whipping crem',\n",
       " 'chocolate-covered english toffee bar',\n",
       " 'frozen sausage',\n",
       " 'strong black coffee',\n",
       " 'pimpentos',\n",
       " 'immitation',\n",
       " 'ancho-guajillo chile sauce',\n",
       " 'coarse chickpea flour',\n",
       " 'crumbled wakame seaweed',\n",
       " 'mint sprigs fresh',\n",
       " 'soy powdered milk',\n",
       " 'chicken from',\n",
       " 'mixed seasonal baby greens',\n",
       " 'rice cooked from',\n",
       " 'ground dried poblano chili peppers',\n",
       " 'adzuki red beans',\n",
       " 'your favorite bloody',\n",
       " 'creme puffs',\n",
       " 'fresh raspberries andor',\n",
       " 'dry cranberries',\n",
       " 'wortshire pepper',\n",
       " 'couscous dried',\n",
       " 'enough apples',\n",
       " 'jet-puffed strawberrymallows marshmallows',\n",
       " 'beets salt',\n",
       " 'vegeburger',\n",
       " 'tblsp of garam masala',\n",
       " 'chocolate swiss-cake',\n",
       " 'chicken giblets removed',\n",
       " 'walnut leaves',\n",
       " 'handful of mint leaves',\n",
       " 'smallish stalks celery',\n",
       " 'chilled molasses butter',\n",
       " 'couple shakes of garlic',\n",
       " 'frangipane - recipe',\n",
       " 'preserving brine',\n",
       " 'pommagrenade juice',\n",
       " 'shredded crisp lettuce',\n",
       " 'ground beefturkey',\n",
       " 'mint finely',\n",
       " 'chile negro',\n",
       " 'favorite brownie',\n",
       " 'frozen pork chop',\n",
       " 'grahan cracker crumbs',\n",
       " 'red hot pepper sauce drops',\n",
       " 'whole green onions',\n",
       " 'tabasco jalape\\\\u00f1o sauce',\n",
       " 'green chilli sauce',\n",
       " 'fava bean flowers',\n",
       " 'teff',\n",
       " 'drained juice from',\n",
       " 'courvoisier brandy',\n",
       " 'baby kale greens',\n",
       " 'bread crump\\\\u2019s',\n",
       " 'tarte tatin',\n",
       " 'calif. dry figs',\n",
       " 'chopped sweet gherkin',\n",
       " 'caribou roast from rump steak',\n",
       " 'craked black',\n",
       " 'rice flakes',\n",
       " 'canadian goose',\n",
       " 'shavings tre',\n",
       " 'freshly minced parsley',\n",
       " 'basillemon',\n",
       " 'no sugar',\n",
       " 'favorite salad greens',\n",
       " 'frozen lemons',\n",
       " 'handful of italian parsley',\n",
       " 'thin slices green bell peppers',\n",
       " 'fris\\\\u00e3\\\\u0083\\\\u00e2\\\\u00a9',\n",
       " 'guar',\n",
       " 'pudding instant mix',\n",
       " 'fresh skinned peaches',\n",
       " 'devon cream',\n",
       " 'microwave-safe bowl',\n",
       " 'italian sauce mix',\n",
       " 'boiling tonic water',\n",
       " 'strega liqueur',\n",
       " 'yellow chartreuse',\n",
       " 'curd sour',\n",
       " 'overripe plums',\n",
       " 'coconut filing',\n",
       " 'ubriaco',\n",
       " 'celery stalks',\n",
       " 'mediteranean basil',\n",
       " 'creme de banana liqueur',\n",
       " 'lemon-flavored ice tea mix',\n",
       " 'rose extract',\n",
       " 'unsweeteened alkalized cocoa',\n",
       " 'liver stock',\n",
       " 'peanuts +',\n",
       " 'cubed stuffing mix',\n",
       " 'large red',\n",
       " 'stack of fresh grape leaves',\n",
       " 'fresh pie pumpkin',\n",
       " 'like maker',\n",
       " 'semi soft goat cheese',\n",
       " 'coffee drizzle',\n",
       " 'veggie ribbon salad',\n",
       " 'veggie pepper',\n",
       " 'warm white wine',\n",
       " 'brioches',\n",
       " 'baguio beans',\n",
       " 'sausage casing summer',\n",
       " 'bayonnet ham',\n",
       " 'glass of red wine',\n",
       " 'unseasoned mashed potatoes',\n",
       " 'injera bread',\n",
       " 'no bone',\n",
       " 'regular m',\n",
       " 'light white cake mix',\n",
       " ...]"
      ]
     },
     "execution_count": 186,
     "metadata": {},
     "output_type": "execute_result"
    }
   ],
   "execution_count": 186
  },
  {
   "metadata": {},
   "cell_type": "markdown",
   "source": "### Convert ingredients to index",
   "id": "a1756ba6ad60148b"
  },
  {
   "metadata": {
    "ExecuteTime": {
     "end_time": "2025-08-24T00:07:43.656745Z",
     "start_time": "2025-08-24T00:07:43.609451Z"
    }
   },
   "cell_type": "code",
   "source": [
    "ingredient2idx = {ing: i for i, ing in enumerate(unique_ingredients_list)}\n",
    "\n",
    "print(f\"Number of unique ingredients: {len(unique_ingredients_list)}\")\n",
    "ingredient2idx"
   ],
   "id": "e2ef7bd4b33ccce",
   "outputs": [
    {
     "name": "stdout",
     "output_type": "stream",
     "text": [
      "Number of unique ingredients: 165431\n"
     ]
    },
    {
     "data": {
      "text/plain": [
       "{'seasons zesty': 0,\n",
       " 'boloney': 1,\n",
       " 'bagof spanish yellow rice': 2,\n",
       " 'andes peppermint baking chips': 3,\n",
       " 'filberts ground': 4,\n",
       " 'lemon sqeeze': 5,\n",
       " 'coconut cake frosting': 6,\n",
       " 'recipe whipped cream': 7,\n",
       " 'grain seedy crackers': 8,\n",
       " 'hemp hearts manitoba': 9,\n",
       " 'teleras': 10,\n",
       " 'shiitake soaking liquid': 11,\n",
       " 'cooking minute rice': 12,\n",
       " 'quartered cherry tomatoes': 13,\n",
       " 'using sharp knife': 14,\n",
       " 'marrow gut': 15,\n",
       " 'combine ingredients': 16,\n",
       " 'chicken andouille sausage': 17,\n",
       " 'green sherbet': 18,\n",
       " 'greek yoghurt natural': 19,\n",
       " 'olive garden italian dressing': 20,\n",
       " 'choke': 21,\n",
       " 'flat -leaf parsley': 22,\n",
       " 'tumbleweed shoots': 23,\n",
       " \"al's barbecue sauce\": 24,\n",
       " 'apple wine vinegar': 25,\n",
       " 'black lumpfish roe': 26,\n",
       " 'knorr fiesta': 27,\n",
       " 'maggi vegetarian vegetable flavor': 28,\n",
       " 'shallots white pepper': 29,\n",
       " 'mixed fruit blend': 30,\n",
       " 'soy flaxseed tortilla chips': 31,\n",
       " 'vinagar': 32,\n",
       " 'non fat vanilla': 33,\n",
       " 'unripe nangka': 34,\n",
       " 'very ripe pureed bananas': 35,\n",
       " 'bella cucina': 36,\n",
       " 'jalepenos including seeds': 37,\n",
       " 'weight cured serrano': 38,\n",
       " 'either green olive': 39,\n",
       " 'orange and onion': 40,\n",
       " 'betty crocker super': 41,\n",
       " 'cajun-style crab boil seasoning': 42,\n",
       " 'fish yellowfin': 43,\n",
       " 'non dairy milk choice': 44,\n",
       " 'rindless smoked bacon': 45,\n",
       " 'chickpeas aka garbanza beans': 46,\n",
       " 'cubeb pepper': 47,\n",
       " 'additional cracker meal': 48,\n",
       " 'demi gloss': 49,\n",
       " 'picapepper': 50,\n",
       " 'loose cilantro': 51,\n",
       " 'overproof': 52,\n",
       " 'crunchie peanut butter': 53,\n",
       " 'oats either': 54,\n",
       " 'beef samosas': 55,\n",
       " 'peperivka spiced whiskey': 56,\n",
       " 'apple should': 57,\n",
       " 'chocolate:': 58,\n",
       " 'covered soup kettle': 59,\n",
       " 'chilly chili pepper': 60,\n",
       " 'bittersweet chocolatechopped': 61,\n",
       " 'cooking spray': 62,\n",
       " 'light white tuna': 63,\n",
       " 'crabs legs': 64,\n",
       " 'montepulciano dabruzzo red wine': 65,\n",
       " 'cilantro green coriander': 66,\n",
       " 'crusty kaiser rolls': 67,\n",
       " 'based sauce': 68,\n",
       " 'use another firm white fish': 69,\n",
       " 'cream cheese': 70,\n",
       " 'crispy jambon': 71,\n",
       " 'aussie cheese fries': 72,\n",
       " 'crottin de chavignol': 73,\n",
       " 'mixed root vegetables': 74,\n",
       " 'of breadcrums': 75,\n",
       " 'chuck ribs': 76,\n",
       " 'armor meat': 77,\n",
       " 'vinella': 78,\n",
       " 'pickle halves': 79,\n",
       " 'nuts of': 80,\n",
       " 'nonsudsing ammonia': 81,\n",
       " 'blue agave': 82,\n",
       " 'bulgur wheat quick-cooking': 83,\n",
       " 'standing roast': 84,\n",
       " 'pimenta': 85,\n",
       " 'dry roux mix': 86,\n",
       " 'crumbled saffron': 87,\n",
       " 'stonewall kitchen country ketchup': 88,\n",
       " 'fresh beancurd': 89,\n",
       " 'this sauce': 90,\n",
       " 'shots tamarind simple syrup': 91,\n",
       " 'roll kind': 92,\n",
       " 'low-fat mozzarella cheese shredded': 93,\n",
       " 'barley shochu': 94,\n",
       " 'very hot sausage': 95,\n",
       " 'whole m ilk': 96,\n",
       " 'orange slices and cinnamon': 97,\n",
       " 'espresso-ground coffee': 98,\n",
       " 'artichokes fresh': 99,\n",
       " 'yourself': 100,\n",
       " 'raspberry liquid': 101,\n",
       " 'birds eye chile': 102,\n",
       " 'fluid pepperoni': 103,\n",
       " 'ground chocolate wafers': 104,\n",
       " 'cinnamon-raisin bread': 105,\n",
       " 'normal flour': 106,\n",
       " 'steamed octopus': 107,\n",
       " 'oil of some kind': 108,\n",
       " 'canmedium green enchilada sauce': 109,\n",
       " 'cold strained leftover corned beef broth': 110,\n",
       " 'hot creamed horseradish': 111,\n",
       " 'red grapefruit juice': 112,\n",
       " 'light firm silken': 113,\n",
       " 'armagnac': 114,\n",
       " 'lemon juice optionally': 115,\n",
       " 'store-bought granola': 116,\n",
       " 'galangal slices': 117,\n",
       " 'fast-fry': 118,\n",
       " 'papadums': 119,\n",
       " 'sweet shortcrust': 120,\n",
       " 'ground smoked tellicherry black pepper': 121,\n",
       " 'puree tomatoes': 122,\n",
       " 'tomato sauce cold': 123,\n",
       " 'cream pie': 124,\n",
       " 'overholt rye': 125,\n",
       " 'fillet - skinless': 126,\n",
       " 'flaked smoked trout': 127,\n",
       " 'creamer soya': 128,\n",
       " 'dark lager': 129,\n",
       " 'thin slices queso blanco': 130,\n",
       " 'grated cheese of': 131,\n",
       " 'buttered orzo pasta': 132,\n",
       " 'bite sized cauliflowerets': 133,\n",
       " 'c.parmesan cheese': 134,\n",
       " 'packets mushrooms': 135,\n",
       " 'sprouted buckwheat groats': 136,\n",
       " 'grainy style mustard': 137,\n",
       " 'cake ang fd': 138,\n",
       " 'oelek sambal': 139,\n",
       " 'sweet red bell peppers seeds': 140,\n",
       " 'chocolate fudge icing': 141,\n",
       " 'cansfresh oysters': 142,\n",
       " 'tenderloin roast': 143,\n",
       " 'cocktail sourdough': 144,\n",
       " 'knorr cream': 145,\n",
       " \"unwrapped reese's\": 146,\n",
       " 'ones japanese': 147,\n",
       " 'cook grits': 148,\n",
       " 'almonds slice': 149,\n",
       " 'oregano black pepper': 150,\n",
       " 'unpeeled russet potatoes': 151,\n",
       " 'bread - baguettes': 152,\n",
       " 'styrofoam plates': 153,\n",
       " 'chocolate bittersweet chips': 154,\n",
       " 'couple of big': 155,\n",
       " 'bowknots': 156,\n",
       " 'cranberries raspberries': 157,\n",
       " 'fresh raspberries mixed': 158,\n",
       " 'currant flavored': 159,\n",
       " 'pre-': 160,\n",
       " 'ovenproof skillet': 161,\n",
       " 'crushed ice apricot': 162,\n",
       " 'cinnamnon': 163,\n",
       " 'herb vinegar': 164,\n",
       " 'inches jalapenos': 165,\n",
       " 'evaporated milk': 166,\n",
       " 'chardonnay cream sauce': 167,\n",
       " 'corn unhusked': 168,\n",
       " 'red holiday': 169,\n",
       " 'caramel dip': 170,\n",
       " 'mayonnaise tortilla chips': 171,\n",
       " 'spring onionsd': 172,\n",
       " 'chicken cutlets vegan': 173,\n",
       " 'cabbage soup': 174,\n",
       " 'pomegranite vinegrette': 175,\n",
       " 'white chocolate baking squares': 176,\n",
       " 'cornmeal pastry': 177,\n",
       " 'italian-style risotta rice': 178,\n",
       " 'fluid ounces lager beer': 179,\n",
       " 'chervregoat cheese': 180,\n",
       " 'wedges watermelon': 181,\n",
       " 'of crabmeat': 182,\n",
       " 'quinoa egyptian rice': 183,\n",
       " 'ground grains of paradise': 184,\n",
       " 'fennell': 185,\n",
       " 'peppercorns crushed': 186,\n",
       " 'espresso whipped cream': 187,\n",
       " 'skin-on': 188,\n",
       " 'ground calf liver': 189,\n",
       " 'onion $': 190,\n",
       " 'lemon juice from freash': 191,\n",
       " 'chambord raspberry': 192,\n",
       " 'pomelo juice': 193,\n",
       " 'black ripe chpped olives': 194,\n",
       " 'mushroom sauce mix': 195,\n",
       " 'raisin pumpkin': 196,\n",
       " 'lump crab meat': 197,\n",
       " 'spray coating': 198,\n",
       " 'italian breadstick': 199,\n",
       " 'toamto soup': 200,\n",
       " 'spice islands ground ginger': 201,\n",
       " 'creole meunier sauce': 202,\n",
       " 'layer of onion slices': 203,\n",
       " 'thai oil': 204,\n",
       " 'filling key': 205,\n",
       " 'chile powder': 206,\n",
       " 'lagered turkey chili': 207,\n",
       " 'hoagie rolls': 208,\n",
       " 'ounce salami': 209,\n",
       " 'bottlepale lager ale': 210,\n",
       " 'potatoes nice': 211,\n",
       " 'sunflower seedskernals': 212,\n",
       " 'of smooth': 213,\n",
       " 'fresh organic': 214,\n",
       " 'rainbow rotini pasta': 215,\n",
       " 'calamari tentacles': 216,\n",
       " 'fireweed juice': 217,\n",
       " 'stem kale': 218,\n",
       " 'cones': 219,\n",
       " 'caraway seet': 220,\n",
       " 'baskets blackberry': 221,\n",
       " 'oriental style': 222,\n",
       " 'shots brandy': 223,\n",
       " 'jet-puffed starmallows marshmallow': 224,\n",
       " 'cilantro leves': 225,\n",
       " '\\\\u2019s meat': 226,\n",
       " 'shortening criso': 227,\n",
       " 'chocolate-covered peppermint pattie': 228,\n",
       " 'chilpotle powder': 229,\n",
       " 'freshly ground espresso coffee': 230,\n",
       " 'dipping sauce===': 231,\n",
       " 'parmesan mashed potatoes': 232,\n",
       " 'lg.tomotoes': 233,\n",
       " 'fresh squirrels': 234,\n",
       " 'green anise': 235,\n",
       " 'recipe comeback sauce': 236,\n",
       " 'fresh green': 237,\n",
       " 'bottles of tomato basil sauce': 238,\n",
       " 's&amp;p': 239,\n",
       " 'pork sugar': 240,\n",
       " 'del monte cream': 241,\n",
       " 'white chocolate melting': 242,\n",
       " 'chickpea fritters': 243,\n",
       " 'sclopps': 244,\n",
       " 'packagepre': 245,\n",
       " 'fresh thai basil [+': 246,\n",
       " 'lemon slices fresh': 247,\n",
       " 'plain jello': 248,\n",
       " 'ginger-sesame': 249,\n",
       " 'firm chinese': 250,\n",
       " 'ounce.can': 251,\n",
       " 'free-range': 252,\n",
       " 'sarrano peppers': 253,\n",
       " 'shallow ceramic': 254,\n",
       " 'handful basil': 255,\n",
       " 'pork stomach': 256,\n",
       " 'hot giardiniera mixed vegetables': 257,\n",
       " 'mild natural cheddar cheese': 258,\n",
       " 'preserved truffles': 259,\n",
       " 'cranberry-flavored liqueur': 260,\n",
       " 'coffee cream cheese': 261,\n",
       " 'manzanilla olives': 262,\n",
       " 'red jujube': 263,\n",
       " 'sprouts beans': 264,\n",
       " 'vanilla bean]': 265,\n",
       " 'spice italian': 266,\n",
       " 'green pigeon peas': 267,\n",
       " 'dark rum rolls': 268,\n",
       " 'jersey tomato': 269,\n",
       " 'amount of lemon extract': 270,\n",
       " 'chutney peach': 271,\n",
       " 'cheese valtellina casera dop': 272,\n",
       " 'extra vergine': 273,\n",
       " 'slightly charred': 274,\n",
       " 'simple creations': 275,\n",
       " 'chive stem': 276,\n",
       " 'packagejell-o chocolate pudding': 277,\n",
       " 'sitake mushroom': 278,\n",
       " 'crusty country italian bread': 279,\n",
       " 'drizzle of lemon juice': 280,\n",
       " 'store-bought harissa': 281,\n",
       " 'barbecue sauce oriental': 282,\n",
       " 'whole beef brisket': 283,\n",
       " 'almond ice cream base': 284,\n",
       " 'solid white shortening': 285,\n",
       " 'thank you brand vanilla pudding': 286,\n",
       " 'cavendar': 287,\n",
       " 'ronzoni': 288,\n",
       " 'pretzel squares': 289,\n",
       " 'hot dog burns': 290,\n",
       " 'celery root knob': 291,\n",
       " 'blackberry sherbet': 292,\n",
       " 'red onion salsa': 293,\n",
       " 'canola safflower oil': 294,\n",
       " 'water boil toughter': 295,\n",
       " 'understanding and mutual': 296,\n",
       " 'kourkoubinia': 297,\n",
       " 'hot chili peppers powder': 298,\n",
       " 'peanut-shaped': 299,\n",
       " 'cold whip med': 300,\n",
       " 'heirloom grits': 301,\n",
       " 'freah squeezed lemon juice': 302,\n",
       " 'prime new': 303,\n",
       " 'nuts grape': 304,\n",
       " 'water pastry': 305,\n",
       " 'thoroughly mashed clove garlic': 306,\n",
       " 'brown vinegar': 307,\n",
       " 'fresh picked cilantro': 308,\n",
       " 'mesa grill': 309,\n",
       " 'glowing embers': 310,\n",
       " 'tuna incl water': 311,\n",
       " 'pureed red onions': 312,\n",
       " '(wine': 313,\n",
       " 'coffee toffee': 314,\n",
       " 'egg shell noodles': 315,\n",
       " 'red fruit': 316,\n",
       " 'water cilantro': 317,\n",
       " 'monterey albacore': 318,\n",
       " 'macaroni aldente': 319,\n",
       " 'freshly-ground cinnamon': 320,\n",
       " 'cinnamonsugar': 321,\n",
       " 'chicken broth depending': 322,\n",
       " 'filling ravioli': 323,\n",
       " 'peach ale': 324,\n",
       " 'mint dried': 325,\n",
       " 'nonfat process cream cheese': 326,\n",
       " 'fresh cooked green beans': 327,\n",
       " 'honey roasted': 328,\n",
       " 'rosmarino': 329,\n",
       " 'gold powder': 330,\n",
       " 'lemon or onion': 331,\n",
       " 'flaky sea salt': 332,\n",
       " 'bottled sweet plum sauce': 333,\n",
       " '* sometimes': 334,\n",
       " 'caerphilly': 335,\n",
       " 'fresh squeezed lemons': 336,\n",
       " 'italian-stlye tomatoes': 337,\n",
       " 'thin slices green bell pepper': 338,\n",
       " 'fillet of fish say trevally': 339,\n",
       " 'thickness zucchinis': 340,\n",
       " 'preserved duck eggs': 341,\n",
       " 'pesto mix': 342,\n",
       " 'white portion': 343,\n",
       " 'white wheat pizza crust': 344,\n",
       " 'malabar spinach leaves': 345,\n",
       " 'deli buffalo': 346,\n",
       " 'jacket potatoes': 347,\n",
       " 'shortening cold': 348,\n",
       " 'farinheira wheat': 349,\n",
       " 'thin slices parmesan cheese': 350,\n",
       " 'tomatoe ketchup': 351,\n",
       " 'cayenne pepper(or': 352,\n",
       " 'neutral flavored cooking oil': 353,\n",
       " 'lukearm water': 354,\n",
       " 'fans': 355,\n",
       " 'help file': 356,\n",
       " 'dry red burgundy wine': 357,\n",
       " 'coconut creamer': 358,\n",
       " 'passion fruit nectar': 359,\n",
       " 'tamarind jus': 360,\n",
       " 'broccoli florets large': 361,\n",
       " 'cheesecloth to': 362,\n",
       " 'fish soup base': 363,\n",
       " 'favorite toppings': 364,\n",
       " 'caesar style': 365,\n",
       " 'chicken-like': 366,\n",
       " 'handful stale bread': 367,\n",
       " 'plates beef short ribs': 368,\n",
       " 'lime freshly': 369,\n",
       " 'naan rolls': 370,\n",
       " 'roses sweetened lime juice': 371,\n",
       " 'vegetable crudit\\\\u00e9s': 372,\n",
       " 'packetgoya chicken': 373,\n",
       " 'fresh cracked': 374,\n",
       " 'cilantro shallots': 375,\n",
       " 'mashed ripe figs': 376,\n",
       " 'low-cal strawberry jello': 377,\n",
       " 'asian ratatouille': 378,\n",
       " 'ounces wheat starch': 379,\n",
       " 'rye rolls': 380,\n",
       " 'beef of choice': 381,\n",
       " 'framboise': 382,\n",
       " 'tender sun-dried tomatoes': 383,\n",
       " 'italian pasta salad': 384,\n",
       " 'tooth of garlic': 385,\n",
       " 'warm cooked brown rice': 386,\n",
       " 'coconut secret': 387,\n",
       " 'recipe pizzocheri': 388,\n",
       " 'bottles ginger beer': 389,\n",
       " 'caramel nuts': 390,\n",
       " 'packets duck sauce': 391,\n",
       " 'avovado': 392,\n",
       " 'clear tape': 393,\n",
       " 'creamettes macaroni': 394,\n",
       " 'paw-paw': 395,\n",
       " \"basia's italian seasoning\": 396,\n",
       " 'basil chiffenade': 397,\n",
       " 'gram crackers': 398,\n",
       " 'ryvita': 399,\n",
       " 'firm white boneless fish': 400,\n",
       " 'hp sauce': 401,\n",
       " \"orange's worth\": 402,\n",
       " \"bottlessweet baby ray's\": 403,\n",
       " 'rapid rise yeast': 404,\n",
       " 'hair coleslaw': 405,\n",
       " 'packagebroccoli': 406,\n",
       " 'choppedonions': 407,\n",
       " 'shiro-miso': 408,\n",
       " 'brown onions- cooking onions': 409,\n",
       " 'brooks chili hot beans': 410,\n",
       " 'mint-flavored semisweet chocolate piece': 411,\n",
       " 'noodles wheat': 412,\n",
       " 'cajun poultry seasoning': 413,\n",
       " 'sweet potato flour': 414,\n",
       " 'rub seasonings': 415,\n",
       " 'pureed pineapple': 416,\n",
       " 'biryani leaves': 417,\n",
       " 'gallon red': 418,\n",
       " 'broccoli normandy': 419,\n",
       " 'flying fish': 420,\n",
       " 'jigger hazelnut liqueur': 421,\n",
       " 'own whitewheat bread': 422,\n",
       " 'bosc pears': 423,\n",
       " 'basic aioli': 424,\n",
       " 'broken rolls': 425,\n",
       " 'horseradish puree': 426,\n",
       " 'italian-style pork sausage': 427,\n",
       " 'hair coils': 428,\n",
       " 'unpeeled japanese eggplant': 429,\n",
       " \"campbell's cream of chicken soup\": 430,\n",
       " 'red ribbons': 431,\n",
       " 'callo greens': 432,\n",
       " 'multi-colored baby heirloom tomatoes': 433,\n",
       " 'baby thai coconut meat': 434,\n",
       " 'pretty finely zha': 435,\n",
       " 'range organic egg yolks': 436,\n",
       " 'tomatoes including juice': 437,\n",
       " 'chilli dreid': 438,\n",
       " 'garlic mushroom': 439,\n",
       " 'chinese black tea bags': 440,\n",
       " 'packagekosher franks': 441,\n",
       " 'fresh cayenne chile': 442,\n",
       " 'chocolate cherry': 443,\n",
       " 'semi sundried tomato': 444,\n",
       " 'lots ice': 445,\n",
       " 'nutty topping': 446,\n",
       " 'steamed asparagus': 447,\n",
       " 'thawed raspberries': 448,\n",
       " 'fresh green pepper': 449,\n",
       " 'chamomile-lavender loose-leaf tea': 450,\n",
       " 'fresh fennel sprigs': 451,\n",
       " 'dry wheat noodles': 452,\n",
       " 'turmeric fingers': 453,\n",
       " 'evangeline sauce': 454,\n",
       " 'vanilla-flavored black tea': 455,\n",
       " 'cheese with dill': 456,\n",
       " 'vinegar chinese black': 457,\n",
       " 'chinese stew meat': 458,\n",
       " 'florida orange slices': 459,\n",
       " 'cornmael': 460,\n",
       " 'thing of stuff': 461,\n",
       " 'lemon cake mix': 462,\n",
       " 'portobello sauce': 463,\n",
       " 'fresh washed raspberries': 464,\n",
       " 'gfcf margarine': 465,\n",
       " 'petite frozen green pea': 466,\n",
       " 'choy cabbages': 467,\n",
       " 'minute birds': 468,\n",
       " 'black peppercorns freshly cracked': 469,\n",
       " 'root beer flavoring': 470,\n",
       " 'lean grnd pork': 471,\n",
       " 'jarred piquillo peppers': 472,\n",
       " 'fonseca': 473,\n",
       " 'recipe': 474,\n",
       " 'honey sunshine cereal': 475,\n",
       " 'syrup anise': 476,\n",
       " 'innards': 477,\n",
       " 'aleppo chili flakes': 478,\n",
       " 'cold organic shortening': 479,\n",
       " 'glace fruits': 480,\n",
       " 'cream brie cheese': 481,\n",
       " 'festive decor': 482,\n",
       " 'glazed fruit': 483,\n",
       " 'almond bark white': 484,\n",
       " 'eg.carrot': 485,\n",
       " 'birds eye frozen peas': 486,\n",
       " \"'s krazy salt\": 487,\n",
       " 'vegetable cooking oil': 488,\n",
       " 'bamboo shoots daikon': 489,\n",
       " 'chinese chile paste': 490,\n",
       " 'luxury mincemeat': 491,\n",
       " 'nonstick frying pan': 492,\n",
       " 'cooking cocoa': 493,\n",
       " 'rice wholegrain flakes': 494,\n",
       " 'onion-almond paste': 495,\n",
       " 'vanilla oil powdered sugar cinnamon syrup': 496,\n",
       " 'canned mushroom': 497,\n",
       " 'monster handful': 498,\n",
       " 'hard goat cheese': 499,\n",
       " 'poulet': 500,\n",
       " 'saffron threads ground': 501,\n",
       " 'egyptian pasta': 502,\n",
       " 'cake board': 503,\n",
       " 'fajita spice blend': 504,\n",
       " 'frozen baby onions': 505,\n",
       " 'red-wine': 506,\n",
       " 'koyadofu': 507,\n",
       " 'remaining lemon syrup': 508,\n",
       " 'gwyneth': 509,\n",
       " 'chill heavy cream': 510,\n",
       " 'maraschino cherry dessert topping': 511,\n",
       " 'chinese sesame paste': 512,\n",
       " 'chicken meat rotisserie': 513,\n",
       " 'ground toasted pumpkin seeds': 514,\n",
       " 'pork for': 515,\n",
       " 'stewingfryer chicken': 516,\n",
       " 'unflavored pedialyte': 517,\n",
       " 'valencia orange juice': 518,\n",
       " 'ghee for': 519,\n",
       " \"pork shoulder payne's family farms\": 520,\n",
       " 'avocado cream': 521,\n",
       " 'flaked roast': 522,\n",
       " 'gourd karela': 523,\n",
       " 'window cleaning': 524,\n",
       " 'jalapeno chilie peppers': 525,\n",
       " 'blueberry granola': 526,\n",
       " 'thin slice fully cooked ham': 527,\n",
       " 'barbecue grill': 528,\n",
       " 'chatfields': 529,\n",
       " 'grated cheese target': 530,\n",
       " 'skinless meat': 531,\n",
       " 'crunchy fish': 532,\n",
       " 'no-': 533,\n",
       " 'tasteless salad oil': 534,\n",
       " 'soysauce': 535,\n",
       " 'radicchio -': 536,\n",
       " 'fingerling potato': 537,\n",
       " 'thai red chili paste': 538,\n",
       " 'gruyere packed': 539,\n",
       " '~for the crust': 540,\n",
       " 'marshmallow mint': 541,\n",
       " 'turkey shaved': 542,\n",
       " 'cold cooked macaroni': 543,\n",
       " 'lemon mint tzatziki': 544,\n",
       " 'chocolate covered crunchy': 545,\n",
       " 'lightly packed fresh mint leaves': 546,\n",
       " 'milk chantilly': 547,\n",
       " 'green baby': 548,\n",
       " 'low-fat sharp': 549,\n",
       " 'watermelon rind pickles': 550,\n",
       " 'fresh chile': 551,\n",
       " 'sweeteners': 552,\n",
       " 'cold sprite': 553,\n",
       " 'frozen whipped nondairy dessert topping': 554,\n",
       " 'cammambre': 555,\n",
       " 'chickpeas -sorted': 556,\n",
       " 'creole seasoning blend': 557,\n",
       " 'black dough': 558,\n",
       " 'of albacore': 559,\n",
       " 'just cooked egg noodles': 560,\n",
       " 'custard flour': 561,\n",
       " 'red dried beans': 562,\n",
       " 'lrg apples': 563,\n",
       " 'brisket smoke sauce': 564,\n",
       " 'turkey hot dogs': 565,\n",
       " 'wine merlot': 566,\n",
       " 'caramel pecan sweet roll': 567,\n",
       " 'ground curcuma': 568,\n",
       " 'ham bone from cured ham': 569,\n",
       " 'semilla de cilantro': 570,\n",
       " 'colby monterey cheddar cheese': 571,\n",
       " 'freshly squeezed orang juice': 572,\n",
       " 'ida country style': 573,\n",
       " 'ponce': 574,\n",
       " 'containers yoplait strawberry yogurt': 575,\n",
       " 'cold-': 576,\n",
       " \"fisher's cashews\": 577,\n",
       " 'serano chili': 578,\n",
       " 'handful your favorite spring vegetables': 579,\n",
       " 'handful bengal gram': 580,\n",
       " 'bread - thin slice': 581,\n",
       " 'italian meatballs': 582,\n",
       " 'unsalted sweet butter': 583,\n",
       " 'lard unrendered': 584,\n",
       " 'chuck roasts': 585,\n",
       " 'cornmeal base': 586,\n",
       " 'sweet green pepper': 587,\n",
       " 'bay leaves.': 588,\n",
       " 'cooked white chicken meat': 589,\n",
       " 'could include': 590,\n",
       " 'cooking apples': 591,\n",
       " 'ciabata bread': 592,\n",
       " 'scewers': 593,\n",
       " 'handful of green leaves': 594,\n",
       " 'marshmallow cream frosting': 595,\n",
       " 'whole wheat white bread': 596,\n",
       " 'juice-': 597,\n",
       " 'brick tillamook special reserve': 598,\n",
       " 'pineapple frosting': 599,\n",
       " 'favorite whiskey': 600,\n",
       " 'lemon juice or vinegar': 601,\n",
       " '# lean ground beef': 602,\n",
       " 'fresh thai red chili': 603,\n",
       " 'lemon caper': 604,\n",
       " 'unsweetened hazelnut paste': 605,\n",
       " 'lime sorbet': 606,\n",
       " 'spoons cider vinegar': 607,\n",
       " 'pumpkin canned puree': 608,\n",
       " 'veg shortening': 609,\n",
       " 'batch grenadine frosting': 610,\n",
       " 'smoky gouda cheese': 611,\n",
       " 'iceingsugar': 612,\n",
       " 'white bell peppers': 613,\n",
       " 'walnut piece': 614,\n",
       " 'kraft cracker barrel': 615,\n",
       " 'a meat': 616,\n",
       " 'hazelnut cream': 617,\n",
       " 'icing maple': 618,\n",
       " 'cranberry vinaigrette': 619,\n",
       " 'well water': 620,\n",
       " 'bananas over': 621,\n",
       " 'moon-charged': 622,\n",
       " ' okra': 623,\n",
       " 'dinkel wholewheat flour': 624,\n",
       " 'bags meat ravioli': 625,\n",
       " 'costcos- mango': 626,\n",
       " 'chinese style firm tofu': 627,\n",
       " 'vanilla coconut milk ice cream': 628,\n",
       " 'separate bowl': 629,\n",
       " 'corn - drained': 630,\n",
       " 'barilla mezzi rigatoni': 631,\n",
       " 'lo-fat plain yogurt': 632,\n",
       " 'sole fillets': 633,\n",
       " 'sweet fennel seeds': 634,\n",
       " 'ground caradomom': 635,\n",
       " 'packageof italian mixed vegetables': 636,\n",
       " \"red thai bird's eye chile\": 637,\n",
       " 'lowers': 638,\n",
       " 'garden vegetable mix': 639,\n",
       " 'packageprepared mirepoix': 640,\n",
       " 'chickn': 641,\n",
       " 'strawberry low-fat yogurt': 642,\n",
       " 'warq': 643,\n",
       " 'almond or': 644,\n",
       " 'romano cheeses': 645,\n",
       " 'bernardin original fruit': 646,\n",
       " 'enough vinegar': 647,\n",
       " 'broccoli au': 648,\n",
       " 'canpillsbury grands ready': 649,\n",
       " 'serrano chimichurri': 650,\n",
       " 'slice wheat sandwich bread': 651,\n",
       " 'woodpigeon': 652,\n",
       " 'moliterno tartufo': 653,\n",
       " 'whipped light chive & onion cream cheese': 654,\n",
       " 'torn kaffir lime': 655,\n",
       " 'penna': 656,\n",
       " 'new cream': 657,\n",
       " 'plum sauce': 658,\n",
       " 'crusty fresh breadcrumb': 659,\n",
       " 'milk powder non': 660,\n",
       " 'light colored rum': 661,\n",
       " 'ginger dried': 662,\n",
       " 't molasses': 663,\n",
       " 'lemon orange': 664,\n",
       " 'grain vinegar': 665,\n",
       " 'mandarin vodka': 666,\n",
       " 'applesuace': 667,\n",
       " 'freshly squeezed ginger': 668,\n",
       " 'round pie crusts': 669,\n",
       " 'dutch baby carrots': 670,\n",
       " 'madras-style curry powder': 671,\n",
       " 'frozen organic blackberries': 672,\n",
       " 'celestial seasonings country peach': 673,\n",
       " 'ropes': 674,\n",
       " 'natural fine sugar': 675,\n",
       " 'fresh by': 676,\n",
       " 'frzn lemonade': 677,\n",
       " 'julienne strips swiss cheese': 678,\n",
       " 'thin slices ripe tomatoes': 679,\n",
       " 'colored frosting': 680,\n",
       " 'liquid of black beans': 681,\n",
       " 'damson': 682,\n",
       " 'kitchenaid pie pastry': 683,\n",
       " 'sweet pimenton': 684,\n",
       " 'blocks sharp': 685,\n",
       " 'cocoa powdered bittersweet': 686,\n",
       " 'neighborly love': 687,\n",
       " 'frzn noodles': 688,\n",
       " 'soy-free solid shortening': 689,\n",
       " 'wax potatoes': 690,\n",
       " 'calif.': 691,\n",
       " 'grains of cayenne': 692,\n",
       " 'canned crisco': 693,\n",
       " 'wild alaskan sockeye salmon': 694,\n",
       " 'lemon untreated': 695,\n",
       " 'wolfgang': 696,\n",
       " 'toban djan': 697,\n",
       " 'handvo flour': 698,\n",
       " 'frzn turnips': 699,\n",
       " 'sour green tamarind': 700,\n",
       " 'castelveltrano': 701,\n",
       " 'tomato [': 702,\n",
       " 'fennel relish': 703,\n",
       " 'nuts again cashews': 704,\n",
       " 'curd recipe passionfruit': 705,\n",
       " 'tajin fruit seasoning': 706,\n",
       " 'cake boards': 707,\n",
       " \"pomona's universal\": 708,\n",
       " \"johnson's frozen chili brick\": 709,\n",
       " 'yellow cooking onions': 710,\n",
       " 'grated cheese mozzarella': 711,\n",
       " 'satsuma orange butter sauce': 712,\n",
       " 'ground sweet red paprika': 713,\n",
       " 'shreadded cheese': 714,\n",
       " \"fresh baker's yeast\": 715,\n",
       " 'dark green virgin olive oil': 716,\n",
       " 'peck apples': 717,\n",
       " 'or leaves': 718,\n",
       " 'vanilla-flavor nonfat yogurt': 719,\n",
       " 'sabra sauce ingredients': 720,\n",
       " 'bishops weed': 721,\n",
       " 'blackened': 722,\n",
       " 'tomato sauce water': 723,\n",
       " 'canadian': 724,\n",
       " 'chunky picante sauce': 725,\n",
       " 'mozterella cheese': 726,\n",
       " 'lasagna noodles curly': 727,\n",
       " 'aspragus': 728,\n",
       " 'turkey tails': 729,\n",
       " 'cake mix which calls for oil': 730,\n",
       " 'sumedang': 731,\n",
       " 'white sparkling decorator sugar': 732,\n",
       " 'noodles no': 733,\n",
       " 'ginger sesame paste': 734,\n",
       " 'gerber carrots': 735,\n",
       " 'o garlic': 736,\n",
       " 'red chiki pepper': 737,\n",
       " 'yee': 738,\n",
       " 'menta': 739,\n",
       " 'chalupa shell': 740,\n",
       " 'liquor of your choice': 741,\n",
       " 'sumac syrup': 742,\n",
       " 'lemongrass pur\\\\u00e9e': 743,\n",
       " 'powdered macaroons': 744,\n",
       " 'parmesan fresh': 745,\n",
       " 'pasta vinaigrette': 746,\n",
       " 'zest of half a large': 747,\n",
       " 'maple glazed ham': 748,\n",
       " 'recipe mushroom': 749,\n",
       " 'mostaccioli pasta': 750,\n",
       " 'vegetarian sausage crumbles': 751,\n",
       " 'dressing': 752,\n",
       " 'roman noodles': 753,\n",
       " 'drops saffron': 754,\n",
       " 'poaching sauce': 755,\n",
       " 'mixed fruit strawberries': 756,\n",
       " 'lime rinds reserved': 757,\n",
       " \"lowry's seasoning\": 758,\n",
       " 'beef kidney fat': 759,\n",
       " 'skillet measuring': 760,\n",
       " 'caps only': 761,\n",
       " 'mirletons': 762,\n",
       " 'parseley': 763,\n",
       " 'brown sugar cinnamon syrup': 764,\n",
       " 'veallamb stock': 765,\n",
       " 'kashmiri chilies': 766,\n",
       " 'vanilla essence  extract': 767,\n",
       " 'salad fixins': 768,\n",
       " 'slightly warm broth': 769,\n",
       " 'chocolate-flavored syrup': 770,\n",
       " 'smallish cucumber': 771,\n",
       " 'eggbeater': 772,\n",
       " 'cremeux': 773,\n",
       " 'liquid chicken broth concentrate': 774,\n",
       " 'your favourite vinaigrette': 775,\n",
       " 'italian frying': 776,\n",
       " 'sort grain rice': 777,\n",
       " 'guyere cheese': 778,\n",
       " 'greek light yogurt': 779,\n",
       " 'sweet and low': 780,\n",
       " 'mild salami': 781,\n",
       " 'kashi(r': 782,\n",
       " 'strawberries handfull': 783,\n",
       " 'dixie paper': 784,\n",
       " 'beef brothstock': 785,\n",
       " 'white wine court bouillon': 786,\n",
       " 'michiu rice wine': 787,\n",
       " 'frozen galangal': 788,\n",
       " 'green bean starch': 789,\n",
       " 'bajan seasoning': 790,\n",
       " 'white spelt penne': 791,\n",
       " 'handful of leftover corn from corn': 792,\n",
       " 'frozen butter beans': 793,\n",
       " 'couple shakes tabasco': 794,\n",
       " 'chicory red': 795,\n",
       " 'fresh satsuma orange juice': 796,\n",
       " 'stew beef meat': 797,\n",
       " 'tortillasa': 798,\n",
       " 'bbq sauce +': 799,\n",
       " 'bagfrozen zucchini': 800,\n",
       " 'packets sazon seasoning with coriander': 801,\n",
       " 'hikiwari natto': 802,\n",
       " 'vegetable bouillon cubes. i': 803,\n",
       " 'frozen organic raspberries': 804,\n",
       " 'loin lamb chops': 805,\n",
       " 'parsley roots': 806,\n",
       " \"bbq sauce sweet baby ray's honey\": 807,\n",
       " '* rice flour': 808,\n",
       " 'buckeye soup n chili crackers': 809,\n",
       " '\\\\u00bc inch': 810,\n",
       " 'semi-sweet good': 811,\n",
       " 'sm.cabbage': 812,\n",
       " 'links of merguez sausage': 813,\n",
       " 'herb of choice': 814,\n",
       " 'sherry vinegar': 815,\n",
       " 'enrollado noodles': 816,\n",
       " 'chocolate mousse buttercream': 817,\n",
       " 'pack paneer': 818,\n",
       " 'cream biscuit dough': 819,\n",
       " 'fluid ounces chicken stock': 820,\n",
       " 'italian colored sprinkles': 821,\n",
       " 'curing liquid': 822,\n",
       " 'moscato sweet red wine': 823,\n",
       " 'chickens cooked': 824,\n",
       " 'fresh sage': 825,\n",
       " 'bearnaise sauce': 826,\n",
       " 'assam tea': 827,\n",
       " 'fresh meat': 828,\n",
       " 'corned beef cooking liquid': 829,\n",
       " 'ginger level': 830,\n",
       " 'pork fresh': 831,\n",
       " 'candiet pack grapefruit section': 832,\n",
       " 'tarragon ground': 833,\n",
       " 'lo-fat cottage cheese': 834,\n",
       " 'yogurt plaingreeksoyregular': 835,\n",
       " 'lewis lye': 836,\n",
       " 'either regular': 837,\n",
       " 'very hot water': 838,\n",
       " 'king edward potato': 839,\n",
       " 'dark chocolate pudding': 840,\n",
       " 'nut mix \\\\u2013': 841,\n",
       " 'freshly cooked brown rice': 842,\n",
       " 'sambal tomat': 843,\n",
       " 'rosemary simple syrup': 844,\n",
       " 'carrots': 845,\n",
       " 'cinnamon cereal': 846,\n",
       " 'packagegarlic': 847,\n",
       " 'potato puree sweet': 848,\n",
       " 'samboosa leaves': 849,\n",
       " 'fruit pie mix': 850,\n",
       " 'stalks gai lan': 851,\n",
       " 'green chille': 852,\n",
       " 'packagejell-o raspberry gelatin powder': 853,\n",
       " 'jerky spice works': 854,\n",
       " 'tiare flowers': 855,\n",
       " 'recipe of sesame hemp turkey bites': 856,\n",
       " 'pasta salad noodles': 857,\n",
       " 'rub \\\\u00e2\\\\u0080\\\\u0093 chili powder': 858,\n",
       " 'regular bran cereal': 859,\n",
       " 'land-o': 860,\n",
       " 'shot rye whiskey': 861,\n",
       " 'substitute regular tomato sauce': 862,\n",
       " 'tart kumquats': 863,\n",
       " 'creamparsley': 864,\n",
       " 'lasagne fresh': 865,\n",
       " 'weight brown mushrooms': 866,\n",
       " 'cracker crumbs buttered': 867,\n",
       " 'sugar-free black cherry jell-o': 868,\n",
       " 'sanding sugar clear': 869,\n",
       " 'my spice rub': 870,\n",
       " 'jarred jalapenos': 871,\n",
       " 'your favorite sandwich': 872,\n",
       " 'celery branches': 873,\n",
       " 'italian mild sausage': 874,\n",
       " 'hot green chile': 875,\n",
       " 'cherry-sumac': 876,\n",
       " 'homemade chili': 877,\n",
       " 'soave': 878,\n",
       " 'celery hearts': 879,\n",
       " 'frozen fillo dough': 880,\n",
       " 'choice oil': 881,\n",
       " 'licorice twists': 882,\n",
       " 'mochaccino yogurt': 883,\n",
       " 'knorr aromat seasoning': 884,\n",
       " 'storebought icing': 885,\n",
       " 'pre-cooked mashed potatoes': 886,\n",
       " 'yellow mustard powder': 887,\n",
       " 'beef chuck cross-rib roasts': 888,\n",
       " 'heavy whipping crem': 889,\n",
       " 'chocolate-covered english toffee bar': 890,\n",
       " 'frozen sausage': 891,\n",
       " 'strong black coffee': 892,\n",
       " 'pimpentos': 893,\n",
       " 'immitation': 894,\n",
       " 'ancho-guajillo chile sauce': 895,\n",
       " 'coarse chickpea flour': 896,\n",
       " 'crumbled wakame seaweed': 897,\n",
       " 'mint sprigs fresh': 898,\n",
       " 'soy powdered milk': 899,\n",
       " 'chicken from': 900,\n",
       " 'mixed seasonal baby greens': 901,\n",
       " 'rice cooked from': 902,\n",
       " 'ground dried poblano chili peppers': 903,\n",
       " 'adzuki red beans': 904,\n",
       " 'your favorite bloody': 905,\n",
       " 'creme puffs': 906,\n",
       " 'fresh raspberries andor': 907,\n",
       " 'dry cranberries': 908,\n",
       " 'wortshire pepper': 909,\n",
       " 'couscous dried': 910,\n",
       " 'enough apples': 911,\n",
       " 'jet-puffed strawberrymallows marshmallows': 912,\n",
       " 'beets salt': 913,\n",
       " 'vegeburger': 914,\n",
       " 'tblsp of garam masala': 915,\n",
       " 'chocolate swiss-cake': 916,\n",
       " 'chicken giblets removed': 917,\n",
       " 'walnut leaves': 918,\n",
       " 'handful of mint leaves': 919,\n",
       " 'smallish stalks celery': 920,\n",
       " 'chilled molasses butter': 921,\n",
       " 'couple shakes of garlic': 922,\n",
       " 'frangipane - recipe': 923,\n",
       " 'preserving brine': 924,\n",
       " 'pommagrenade juice': 925,\n",
       " 'shredded crisp lettuce': 926,\n",
       " 'ground beefturkey': 927,\n",
       " 'mint finely': 928,\n",
       " 'chile negro': 929,\n",
       " 'favorite brownie': 930,\n",
       " 'frozen pork chop': 931,\n",
       " 'grahan cracker crumbs': 932,\n",
       " 'red hot pepper sauce drops': 933,\n",
       " 'whole green onions': 934,\n",
       " 'tabasco jalape\\\\u00f1o sauce': 935,\n",
       " 'green chilli sauce': 936,\n",
       " 'fava bean flowers': 937,\n",
       " 'teff': 938,\n",
       " 'drained juice from': 939,\n",
       " 'courvoisier brandy': 940,\n",
       " 'baby kale greens': 941,\n",
       " 'bread crump\\\\u2019s': 942,\n",
       " 'tarte tatin': 943,\n",
       " 'calif. dry figs': 944,\n",
       " 'chopped sweet gherkin': 945,\n",
       " 'caribou roast from rump steak': 946,\n",
       " 'craked black': 947,\n",
       " 'rice flakes': 948,\n",
       " 'canadian goose': 949,\n",
       " 'shavings tre': 950,\n",
       " 'freshly minced parsley': 951,\n",
       " 'basillemon': 952,\n",
       " 'no sugar': 953,\n",
       " 'favorite salad greens': 954,\n",
       " 'frozen lemons': 955,\n",
       " 'handful of italian parsley': 956,\n",
       " 'thin slices green bell peppers': 957,\n",
       " 'fris\\\\u00e3\\\\u0083\\\\u00e2\\\\u00a9': 958,\n",
       " 'guar': 959,\n",
       " 'pudding instant mix': 960,\n",
       " 'fresh skinned peaches': 961,\n",
       " 'devon cream': 962,\n",
       " 'microwave-safe bowl': 963,\n",
       " 'italian sauce mix': 964,\n",
       " 'boiling tonic water': 965,\n",
       " 'strega liqueur': 966,\n",
       " 'yellow chartreuse': 967,\n",
       " 'curd sour': 968,\n",
       " 'overripe plums': 969,\n",
       " 'coconut filing': 970,\n",
       " 'ubriaco': 971,\n",
       " 'celery stalks': 972,\n",
       " 'mediteranean basil': 973,\n",
       " 'creme de banana liqueur': 974,\n",
       " 'lemon-flavored ice tea mix': 975,\n",
       " 'rose extract': 976,\n",
       " 'unsweeteened alkalized cocoa': 977,\n",
       " 'liver stock': 978,\n",
       " 'peanuts +': 979,\n",
       " 'cubed stuffing mix': 980,\n",
       " 'large red': 981,\n",
       " 'stack of fresh grape leaves': 982,\n",
       " 'fresh pie pumpkin': 983,\n",
       " 'like maker': 984,\n",
       " 'semi soft goat cheese': 985,\n",
       " 'coffee drizzle': 986,\n",
       " 'veggie ribbon salad': 987,\n",
       " 'veggie pepper': 988,\n",
       " 'warm white wine': 989,\n",
       " 'brioches': 990,\n",
       " 'baguio beans': 991,\n",
       " 'sausage casing summer': 992,\n",
       " 'bayonnet ham': 993,\n",
       " 'glass of red wine': 994,\n",
       " 'unseasoned mashed potatoes': 995,\n",
       " 'injera bread': 996,\n",
       " 'no bone': 997,\n",
       " 'regular m': 998,\n",
       " 'light white cake mix': 999,\n",
       " ...}"
      ]
     },
     "execution_count": 187,
     "metadata": {},
     "output_type": "execute_result"
    }
   ],
   "execution_count": 187
  },
  {
   "metadata": {
    "ExecuteTime": {
     "end_time": "2025-08-23T20:17:38.373636Z",
     "start_time": "2025-08-23T20:17:38.327852Z"
    }
   },
   "cell_type": "code",
   "source": [
    "with open(\"./../dataset/ingredient2idx.pkl\", \"wb\") as f:\n",
    "    pickle.dump(ingredient2idx, f)"
   ],
   "id": "a1e8ed3eafcabe8a",
   "outputs": [],
   "execution_count": 9
  },
  {
   "metadata": {},
   "cell_type": "markdown",
   "source": "### Extract ingredients and recipes",
   "id": "5b999b3776a3cf7f"
  },
  {
   "metadata": {
    "ExecuteTime": {
     "end_time": "2025-08-23T20:17:41.181131Z",
     "start_time": "2025-08-23T20:17:41.161054Z"
    }
   },
   "cell_type": "code",
   "source": [
    "recipe_ingredients = df_recipies[\"NER\"].tolist()\n",
    "recipies = df_recipies[\"title\"]"
   ],
   "id": "8a041f60a2b993b9",
   "outputs": [],
   "execution_count": 10
  },
  {
   "metadata": {},
   "cell_type": "markdown",
   "source": "#### Test the extraction",
   "id": "865b3b84b6f2fb14"
  },
  {
   "metadata": {
    "ExecuteTime": {
     "end_time": "2025-08-23T20:17:43.520789Z",
     "start_time": "2025-08-23T20:17:43.515085Z"
    }
   },
   "cell_type": "code",
   "source": "recipies[10]",
   "id": "46d86ddc2e7d954f",
   "outputs": [
    {
     "data": {
      "text/plain": [
       "'Double Cherry Delight'"
      ]
     },
     "execution_count": 11,
     "metadata": {},
     "output_type": "execute_result"
    }
   ],
   "execution_count": 11
  },
  {
   "metadata": {
    "ExecuteTime": {
     "end_time": "2025-08-23T20:17:46.015566Z",
     "start_time": "2025-08-23T20:17:46.011048Z"
    }
   },
   "cell_type": "code",
   "source": "recipe_ingredients[10]",
   "id": "ce5bac51a8e6f4c4",
   "outputs": [
    {
     "data": {
      "text/plain": [
       "'flavor gelatin, dark sweet pitted cherries, marshmallows, ginger ale, almond extract, boiling water'"
      ]
     },
     "execution_count": 12,
     "metadata": {},
     "output_type": "execute_result"
    }
   ],
   "execution_count": 12
  },
  {
   "metadata": {},
   "cell_type": "markdown",
   "source": "### Embedding model for ingredients",
   "id": "329f5c4c523cb854"
  },
  {
   "metadata": {
    "ExecuteTime": {
     "end_time": "2025-08-23T21:03:47.087927Z",
     "start_time": "2025-08-23T21:03:47.080598Z"
    }
   },
   "cell_type": "code",
   "source": [
    "class RecipeEmbeddingModel(nn.Module):\n",
    "    def __init__(self, vocab_size, embedding_dim, projection_dim=128, pooling=\"mean\"):\n",
    "        super().__init__()\n",
    "        self.pooling = pooling\n",
    "        self.embedding = nn.Embedding(vocab_size, embedding_dim)\n",
    "\n",
    "        # Projection head (SimCLR style)\n",
    "        self.projection = nn.Sequential(\n",
    "            nn.Linear(embedding_dim, embedding_dim),\n",
    "            nn.ReLU(),\n",
    "            nn.Linear(embedding_dim, projection_dim)\n",
    "        )\n",
    "\n",
    "        if pooling == \"attention\":\n",
    "            self.attention = nn.Linear(embedding_dim, 1)\n",
    "\n",
    "    def forward(self, ingredient_indices):\n",
    "        # Pad variable-length ingredient lists\n",
    "        padded = nn.utils.rnn.pad_sequence(\n",
    "            [torch.tensor(x) for x in ingredient_indices],\n",
    "            batch_first=True,\n",
    "            padding_value=0\n",
    "        )\n",
    "        mask = (padded != 0)  # padding mask\n",
    "        embeds = self.embedding(padded)\n",
    "\n",
    "        if self.pooling == \"attention\":\n",
    "            # Compute attention scores\n",
    "            attn_logits = self.attention(embeds).squeeze(-1)  # [batch, seq_len]\n",
    "            attn_logits[mask == 0] = -1e9  # mask padding\n",
    "            attn_weights = F.softmax(attn_logits, dim=1).unsqueeze(-1)  # [batch, seq_len, 1]\n",
    "            recipe_embeds = (embeds * attn_weights).sum(1)\n",
    "        elif self.pooling == \"mean\":\n",
    "            # Mean pooling over ingredients\n",
    "            masked_embeds = embeds * mask.unsqueeze(-1)\n",
    "            recipe_embeds = masked_embeds.sum(1) / (mask.sum(1, keepdim=True) + 1e-8)\n",
    "        else:\n",
    "            raise NotImplementedError(f\"Unknown pool_type: {self.pooling}\")\n",
    "\n",
    "        # normalize for cosine similarity\n",
    "        recipe_embeds = F.normalize(recipe_embeds, dim=-1)\n",
    "\n",
    "        # Projection for contrastive loss\n",
    "        projected = self.projection(recipe_embeds)\n",
    "        projected = F.normalize(projected, dim=-1)  # keep cosine scale\n",
    "\n",
    "        return recipe_embeds, projected"
   ],
   "id": "16b66548025d38d1",
   "outputs": [],
   "execution_count": 145
  },
  {
   "metadata": {},
   "cell_type": "markdown",
   "source": "### Contrastive loss definition",
   "id": "6bdab98723625dab"
  },
  {
   "metadata": {
    "ExecuteTime": {
     "end_time": "2025-08-23T20:58:20.603323Z",
     "start_time": "2025-08-23T20:58:20.598839Z"
    }
   },
   "cell_type": "code",
   "source": [
    "def contrastive_loss(batch_one, batch_two, temperature=0.2):\n",
    "    batch_size = batch_one.size(0)\n",
    "    z = torch.cat([batch_one, batch_two], dim=0)  # (2N, d)\n",
    "\n",
    "    # Cosine similarity matrix\n",
    "    sim = torch.matmul(z, z.T) / temperature\n",
    "    sim.fill_diagonal_(-9e15)  # mask self-similarity\n",
    "\n",
    "    # Positive pairs: i-th in first half with i-th in second half\n",
    "    labels = torch.cat([torch.arange(batch_size) + batch_size,\n",
    "                        torch.arange(batch_size)], dim=0).to(z.device)\n",
    "\n",
    "    loss = F.cross_entropy(sim, labels)\n",
    "    return loss"
   ],
   "id": "9339e19ef613122c",
   "outputs": [],
   "execution_count": 141
  },
  {
   "metadata": {},
   "cell_type": "markdown",
   "source": "### Definition of the train run",
   "id": "94a2fe349cb2d262"
  },
  {
   "metadata": {
    "ExecuteTime": {
     "end_time": "2025-08-23T20:58:24.218418Z",
     "start_time": "2025-08-23T20:58:24.212919Z"
    }
   },
   "cell_type": "code",
   "source": [
    "def train(model, recipes, epochs=1, batch_size=4, lr=1e-3, device=\"cpu\"):\n",
    "    optimizer = torch.optim.Adam(model.parameters(), lr=lr)\n",
    "    model.to(device)\n",
    "\n",
    "    for epoch in range(epochs):\n",
    "        random.shuffle(recipes)\n",
    "\n",
    "        total_loss, n_batches = 0, 0\n",
    "        for i in tqdm.tqdm(range(0, len(recipes), batch_size)):\n",
    "            batch = recipes[i:i+batch_size]\n",
    "            r1, r2 = zip(*batch)\n",
    "\n",
    "            # z_i = model(batch_i).to(device)\n",
    "            # z_j = model(batch_j).to(device)\n",
    "\n",
    "            z_i_base, z_i_proj = model(list(r1))\n",
    "            z_j_base, z_j_proj = model(list(r2))\n",
    "\n",
    "            loss = contrastive_loss(z_i_proj, z_j_proj)\n",
    "\n",
    "            optimizer.zero_grad()\n",
    "            loss.backward()\n",
    "            optimizer.step()\n",
    "\n",
    "            total_loss += loss.item()\n",
    "\n",
    "        print(f\"Epoch {epoch+1}, Loss: {total_loss/len(recipes):.4f}\")"
   ],
   "id": "a1ed72e605932c12",
   "outputs": [],
   "execution_count": 142
  },
  {
   "metadata": {},
   "cell_type": "markdown",
   "source": "### Execute the train run",
   "id": "d60a1f9081066a80"
  },
  {
   "metadata": {
    "ExecuteTime": {
     "end_time": "2025-08-23T21:03:59.365748Z",
     "start_time": "2025-08-23T21:03:59.363162Z"
    }
   },
   "cell_type": "code",
   "source": [
    "vocab_size = len(unique_ingredients_list)\n",
    "encoding_dim = 128"
   ],
   "id": "386e1a0f0abca846",
   "outputs": [],
   "execution_count": 146
  },
  {
   "metadata": {
    "ExecuteTime": {
     "end_time": "2025-08-23T21:09:01.029290Z",
     "start_time": "2025-08-23T21:06:38.912850Z"
    }
   },
   "cell_type": "code",
   "source": [
    "ingredient_indices = list(ingredient2idx.values())\n",
    "\n",
    "# Generate synthetic recipes\n",
    "num_recipes = 20000  # adjust to create enough pairs\n",
    "recipes = []\n",
    "for _ in range(num_recipes):\n",
    "    recipe_length = random.randint(5, 7)  # 2–5 ingredients per recipe\n",
    "    recipe = random.sample(ingredient_indices, recipe_length)\n",
    "    recipes.append(recipe)\n",
    "\n",
    "# Generate positive and negative pairs\n",
    "positive_pairs = list()\n",
    "negative_pairs = list()\n",
    "\n",
    "for i in range(len(recipes)):\n",
    "    for j in range(i + 1, len(recipes)):\n",
    "        set_i = set(recipes[i])\n",
    "        set_j = set(recipes[j])\n",
    "        overlap = set_i & set_j\n",
    "\n",
    "        if len(overlap) == 1:   # exactly one shared ingredient\n",
    "            positive_pairs.append((recipes[i], recipes[j]))\n",
    "        else:                   # no overlap OR more than 1 overlap\n",
    "            negative_pairs.append((recipes[i], recipes[j]))\n",
    "\n",
    "# Step 3: Sample to limit size if needed\n",
    "max_pairs = 15000\n",
    "positive_pairs = random.sample(positive_pairs, min(max_pairs//2, len(positive_pairs)))\n",
    "negative_pairs = random.sample(negative_pairs, min(max_pairs//2, len(negative_pairs)))\n",
    "\n",
    "print(f\"Positive pairs: {len(positive_pairs)}\")\n",
    "print(f\"Negative pairs: {len(negative_pairs)}\")"
   ],
   "id": "d6b2faf1e05b99ad",
   "outputs": [
    {
     "name": "stdout",
     "output_type": "stream",
     "text": [
      "Positive pairs: 7500\n",
      "Negative pairs: 7500\n"
     ]
    }
   ],
   "execution_count": 148
  },
  {
   "metadata": {
    "ExecuteTime": {
     "end_time": "2025-08-23T20:52:48.585990Z",
     "start_time": "2025-08-23T20:52:46.858995Z"
    }
   },
   "cell_type": "code",
   "source": [
    "train_recipies = list()\n",
    "for recipe_ingredient in recipe_ingredients:\n",
    "    try:\n",
    "        train_recipies.append([ingredient2idx[i.strip().replace(\"/\", \"\").lower()] for i in recipe_ingredient.split(',')])\n",
    "    except:\n",
    "        pass\n",
    "\n",
    "print(f\"Number of recipes: {len(train_recipies)}\")"
   ],
   "id": "e19abb544d4674e2",
   "outputs": [
    {
     "name": "stdout",
     "output_type": "stream",
     "text": [
      "Number of recipes: 1312143\n"
     ]
    }
   ],
   "execution_count": 121
  },
  {
   "metadata": {
    "ExecuteTime": {
     "end_time": "2025-08-23T21:09:30.238240Z",
     "start_time": "2025-08-23T21:09:30.031931Z"
    }
   },
   "cell_type": "code",
   "source": "model = RecipeEmbeddingModel(vocab_size, encoding_dim)",
   "id": "effca18ea885f5d5",
   "outputs": [],
   "execution_count": 149
  },
  {
   "metadata": {
    "ExecuteTime": {
     "end_time": "2025-08-23T21:12:32.299027Z",
     "start_time": "2025-08-23T21:09:33.037071Z"
    }
   },
   "cell_type": "code",
   "source": "train(model, positive_pairs + negative_pairs, epochs=60, batch_size=128)",
   "id": "4a8646d6ce19e42b",
   "outputs": [
    {
     "name": "stderr",
     "output_type": "stream",
     "text": [
      "100%|██████████| 118/118 [00:03<00:00, 39.06it/s]\n"
     ]
    },
    {
     "name": "stdout",
     "output_type": "stream",
     "text": [
      "Epoch 1, Loss: 0.0427\n"
     ]
    },
    {
     "name": "stderr",
     "output_type": "stream",
     "text": [
      "100%|██████████| 118/118 [00:02<00:00, 39.66it/s]\n"
     ]
    },
    {
     "name": "stdout",
     "output_type": "stream",
     "text": [
      "Epoch 2, Loss: 0.0401\n"
     ]
    },
    {
     "name": "stderr",
     "output_type": "stream",
     "text": [
      "100%|██████████| 118/118 [00:03<00:00, 38.93it/s]\n"
     ]
    },
    {
     "name": "stdout",
     "output_type": "stream",
     "text": [
      "Epoch 3, Loss: 0.0373\n"
     ]
    },
    {
     "name": "stderr",
     "output_type": "stream",
     "text": [
      "100%|██████████| 118/118 [00:02<00:00, 39.62it/s]\n"
     ]
    },
    {
     "name": "stdout",
     "output_type": "stream",
     "text": [
      "Epoch 4, Loss: 0.0348\n"
     ]
    },
    {
     "name": "stderr",
     "output_type": "stream",
     "text": [
      "100%|██████████| 118/118 [00:02<00:00, 39.73it/s]\n"
     ]
    },
    {
     "name": "stdout",
     "output_type": "stream",
     "text": [
      "Epoch 5, Loss: 0.0324\n"
     ]
    },
    {
     "name": "stderr",
     "output_type": "stream",
     "text": [
      "100%|██████████| 118/118 [00:02<00:00, 39.45it/s]\n"
     ]
    },
    {
     "name": "stdout",
     "output_type": "stream",
     "text": [
      "Epoch 6, Loss: 0.0301\n"
     ]
    },
    {
     "name": "stderr",
     "output_type": "stream",
     "text": [
      "100%|██████████| 118/118 [00:02<00:00, 39.57it/s]\n"
     ]
    },
    {
     "name": "stdout",
     "output_type": "stream",
     "text": [
      "Epoch 7, Loss: 0.0280\n"
     ]
    },
    {
     "name": "stderr",
     "output_type": "stream",
     "text": [
      "100%|██████████| 118/118 [00:02<00:00, 39.73it/s]\n"
     ]
    },
    {
     "name": "stdout",
     "output_type": "stream",
     "text": [
      "Epoch 8, Loss: 0.0261\n"
     ]
    },
    {
     "name": "stderr",
     "output_type": "stream",
     "text": [
      "100%|██████████| 118/118 [00:02<00:00, 39.56it/s]\n"
     ]
    },
    {
     "name": "stdout",
     "output_type": "stream",
     "text": [
      "Epoch 9, Loss: 0.0245\n"
     ]
    },
    {
     "name": "stderr",
     "output_type": "stream",
     "text": [
      "100%|██████████| 118/118 [00:02<00:00, 39.61it/s]\n"
     ]
    },
    {
     "name": "stdout",
     "output_type": "stream",
     "text": [
      "Epoch 10, Loss: 0.0231\n"
     ]
    },
    {
     "name": "stderr",
     "output_type": "stream",
     "text": [
      "100%|██████████| 118/118 [00:02<00:00, 39.59it/s]\n"
     ]
    },
    {
     "name": "stdout",
     "output_type": "stream",
     "text": [
      "Epoch 11, Loss: 0.0219\n"
     ]
    },
    {
     "name": "stderr",
     "output_type": "stream",
     "text": [
      "100%|██████████| 118/118 [00:02<00:00, 39.62it/s]\n"
     ]
    },
    {
     "name": "stdout",
     "output_type": "stream",
     "text": [
      "Epoch 12, Loss: 0.0209\n"
     ]
    },
    {
     "name": "stderr",
     "output_type": "stream",
     "text": [
      "100%|██████████| 118/118 [00:02<00:00, 39.66it/s]\n"
     ]
    },
    {
     "name": "stdout",
     "output_type": "stream",
     "text": [
      "Epoch 13, Loss: 0.0201\n"
     ]
    },
    {
     "name": "stderr",
     "output_type": "stream",
     "text": [
      "100%|██████████| 118/118 [00:02<00:00, 39.58it/s]\n"
     ]
    },
    {
     "name": "stdout",
     "output_type": "stream",
     "text": [
      "Epoch 14, Loss: 0.0193\n"
     ]
    },
    {
     "name": "stderr",
     "output_type": "stream",
     "text": [
      "100%|██████████| 118/118 [00:02<00:00, 39.66it/s]\n"
     ]
    },
    {
     "name": "stdout",
     "output_type": "stream",
     "text": [
      "Epoch 15, Loss: 0.0187\n"
     ]
    },
    {
     "name": "stderr",
     "output_type": "stream",
     "text": [
      "100%|██████████| 118/118 [00:02<00:00, 39.74it/s]\n"
     ]
    },
    {
     "name": "stdout",
     "output_type": "stream",
     "text": [
      "Epoch 16, Loss: 0.0182\n"
     ]
    },
    {
     "name": "stderr",
     "output_type": "stream",
     "text": [
      "100%|██████████| 118/118 [00:02<00:00, 39.63it/s]\n"
     ]
    },
    {
     "name": "stdout",
     "output_type": "stream",
     "text": [
      "Epoch 17, Loss: 0.0177\n"
     ]
    },
    {
     "name": "stderr",
     "output_type": "stream",
     "text": [
      "100%|██████████| 118/118 [00:02<00:00, 39.66it/s]\n"
     ]
    },
    {
     "name": "stdout",
     "output_type": "stream",
     "text": [
      "Epoch 18, Loss: 0.0173\n"
     ]
    },
    {
     "name": "stderr",
     "output_type": "stream",
     "text": [
      "100%|██████████| 118/118 [00:02<00:00, 39.53it/s]\n"
     ]
    },
    {
     "name": "stdout",
     "output_type": "stream",
     "text": [
      "Epoch 19, Loss: 0.0169\n"
     ]
    },
    {
     "name": "stderr",
     "output_type": "stream",
     "text": [
      "100%|██████████| 118/118 [00:02<00:00, 39.48it/s]\n"
     ]
    },
    {
     "name": "stdout",
     "output_type": "stream",
     "text": [
      "Epoch 20, Loss: 0.0166\n"
     ]
    },
    {
     "name": "stderr",
     "output_type": "stream",
     "text": [
      "100%|██████████| 118/118 [00:02<00:00, 39.95it/s]\n"
     ]
    },
    {
     "name": "stdout",
     "output_type": "stream",
     "text": [
      "Epoch 21, Loss: 0.0163\n"
     ]
    },
    {
     "name": "stderr",
     "output_type": "stream",
     "text": [
      "100%|██████████| 118/118 [00:02<00:00, 39.77it/s]\n"
     ]
    },
    {
     "name": "stdout",
     "output_type": "stream",
     "text": [
      "Epoch 22, Loss: 0.0161\n"
     ]
    },
    {
     "name": "stderr",
     "output_type": "stream",
     "text": [
      "100%|██████████| 118/118 [00:02<00:00, 39.77it/s]\n"
     ]
    },
    {
     "name": "stdout",
     "output_type": "stream",
     "text": [
      "Epoch 23, Loss: 0.0158\n"
     ]
    },
    {
     "name": "stderr",
     "output_type": "stream",
     "text": [
      "100%|██████████| 118/118 [00:02<00:00, 39.81it/s]\n"
     ]
    },
    {
     "name": "stdout",
     "output_type": "stream",
     "text": [
      "Epoch 24, Loss: 0.0156\n"
     ]
    },
    {
     "name": "stderr",
     "output_type": "stream",
     "text": [
      "100%|██████████| 118/118 [00:02<00:00, 39.66it/s]\n"
     ]
    },
    {
     "name": "stdout",
     "output_type": "stream",
     "text": [
      "Epoch 25, Loss: 0.0154\n"
     ]
    },
    {
     "name": "stderr",
     "output_type": "stream",
     "text": [
      "100%|██████████| 118/118 [00:02<00:00, 39.93it/s]\n"
     ]
    },
    {
     "name": "stdout",
     "output_type": "stream",
     "text": [
      "Epoch 26, Loss: 0.0152\n"
     ]
    },
    {
     "name": "stderr",
     "output_type": "stream",
     "text": [
      "100%|██████████| 118/118 [00:02<00:00, 39.71it/s]\n"
     ]
    },
    {
     "name": "stdout",
     "output_type": "stream",
     "text": [
      "Epoch 27, Loss: 0.0150\n"
     ]
    },
    {
     "name": "stderr",
     "output_type": "stream",
     "text": [
      "100%|██████████| 118/118 [00:02<00:00, 39.88it/s]\n"
     ]
    },
    {
     "name": "stdout",
     "output_type": "stream",
     "text": [
      "Epoch 28, Loss: 0.0149\n"
     ]
    },
    {
     "name": "stderr",
     "output_type": "stream",
     "text": [
      "100%|██████████| 118/118 [00:02<00:00, 39.78it/s]\n"
     ]
    },
    {
     "name": "stdout",
     "output_type": "stream",
     "text": [
      "Epoch 29, Loss: 0.0147\n"
     ]
    },
    {
     "name": "stderr",
     "output_type": "stream",
     "text": [
      "100%|██████████| 118/118 [00:03<00:00, 38.77it/s]\n"
     ]
    },
    {
     "name": "stdout",
     "output_type": "stream",
     "text": [
      "Epoch 30, Loss: 0.0146\n"
     ]
    },
    {
     "name": "stderr",
     "output_type": "stream",
     "text": [
      "100%|██████████| 118/118 [00:02<00:00, 39.92it/s]\n"
     ]
    },
    {
     "name": "stdout",
     "output_type": "stream",
     "text": [
      "Epoch 31, Loss: 0.0145\n"
     ]
    },
    {
     "name": "stderr",
     "output_type": "stream",
     "text": [
      "100%|██████████| 118/118 [00:02<00:00, 39.73it/s]\n"
     ]
    },
    {
     "name": "stdout",
     "output_type": "stream",
     "text": [
      "Epoch 32, Loss: 0.0143\n"
     ]
    },
    {
     "name": "stderr",
     "output_type": "stream",
     "text": [
      "100%|██████████| 118/118 [00:02<00:00, 39.75it/s]\n"
     ]
    },
    {
     "name": "stdout",
     "output_type": "stream",
     "text": [
      "Epoch 33, Loss: 0.0142\n"
     ]
    },
    {
     "name": "stderr",
     "output_type": "stream",
     "text": [
      "100%|██████████| 118/118 [00:02<00:00, 39.78it/s]\n"
     ]
    },
    {
     "name": "stdout",
     "output_type": "stream",
     "text": [
      "Epoch 34, Loss: 0.0142\n"
     ]
    },
    {
     "name": "stderr",
     "output_type": "stream",
     "text": [
      "100%|██████████| 118/118 [00:02<00:00, 39.69it/s]\n"
     ]
    },
    {
     "name": "stdout",
     "output_type": "stream",
     "text": [
      "Epoch 35, Loss: 0.0140\n"
     ]
    },
    {
     "name": "stderr",
     "output_type": "stream",
     "text": [
      "100%|██████████| 118/118 [00:02<00:00, 39.84it/s]\n"
     ]
    },
    {
     "name": "stdout",
     "output_type": "stream",
     "text": [
      "Epoch 36, Loss: 0.0140\n"
     ]
    },
    {
     "name": "stderr",
     "output_type": "stream",
     "text": [
      "100%|██████████| 118/118 [00:02<00:00, 39.70it/s]\n"
     ]
    },
    {
     "name": "stdout",
     "output_type": "stream",
     "text": [
      "Epoch 37, Loss: 0.0139\n"
     ]
    },
    {
     "name": "stderr",
     "output_type": "stream",
     "text": [
      "100%|██████████| 118/118 [00:02<00:00, 39.79it/s]\n"
     ]
    },
    {
     "name": "stdout",
     "output_type": "stream",
     "text": [
      "Epoch 38, Loss: 0.0138\n"
     ]
    },
    {
     "name": "stderr",
     "output_type": "stream",
     "text": [
      "100%|██████████| 118/118 [00:02<00:00, 39.62it/s]\n"
     ]
    },
    {
     "name": "stdout",
     "output_type": "stream",
     "text": [
      "Epoch 39, Loss: 0.0137\n"
     ]
    },
    {
     "name": "stderr",
     "output_type": "stream",
     "text": [
      "100%|██████████| 118/118 [00:02<00:00, 39.78it/s]\n"
     ]
    },
    {
     "name": "stdout",
     "output_type": "stream",
     "text": [
      "Epoch 40, Loss: 0.0136\n"
     ]
    },
    {
     "name": "stderr",
     "output_type": "stream",
     "text": [
      "100%|██████████| 118/118 [00:02<00:00, 39.65it/s]\n"
     ]
    },
    {
     "name": "stdout",
     "output_type": "stream",
     "text": [
      "Epoch 41, Loss: 0.0136\n"
     ]
    },
    {
     "name": "stderr",
     "output_type": "stream",
     "text": [
      "100%|██████████| 118/118 [00:02<00:00, 39.82it/s]\n"
     ]
    },
    {
     "name": "stdout",
     "output_type": "stream",
     "text": [
      "Epoch 42, Loss: 0.0135\n"
     ]
    },
    {
     "name": "stderr",
     "output_type": "stream",
     "text": [
      "100%|██████████| 118/118 [00:02<00:00, 39.62it/s]\n"
     ]
    },
    {
     "name": "stdout",
     "output_type": "stream",
     "text": [
      "Epoch 43, Loss: 0.0135\n"
     ]
    },
    {
     "name": "stderr",
     "output_type": "stream",
     "text": [
      "100%|██████████| 118/118 [00:03<00:00, 39.02it/s]\n"
     ]
    },
    {
     "name": "stdout",
     "output_type": "stream",
     "text": [
      "Epoch 44, Loss: 0.0134\n"
     ]
    },
    {
     "name": "stderr",
     "output_type": "stream",
     "text": [
      "100%|██████████| 118/118 [00:03<00:00, 39.33it/s]\n"
     ]
    },
    {
     "name": "stdout",
     "output_type": "stream",
     "text": [
      "Epoch 45, Loss: 0.0134\n"
     ]
    },
    {
     "name": "stderr",
     "output_type": "stream",
     "text": [
      "100%|██████████| 118/118 [00:03<00:00, 38.53it/s]\n"
     ]
    },
    {
     "name": "stdout",
     "output_type": "stream",
     "text": [
      "Epoch 46, Loss: 0.0133\n"
     ]
    },
    {
     "name": "stderr",
     "output_type": "stream",
     "text": [
      "100%|██████████| 118/118 [00:02<00:00, 39.53it/s]\n"
     ]
    },
    {
     "name": "stdout",
     "output_type": "stream",
     "text": [
      "Epoch 47, Loss: 0.0133\n"
     ]
    },
    {
     "name": "stderr",
     "output_type": "stream",
     "text": [
      "100%|██████████| 118/118 [00:02<00:00, 39.60it/s]\n"
     ]
    },
    {
     "name": "stdout",
     "output_type": "stream",
     "text": [
      "Epoch 48, Loss: 0.0132\n"
     ]
    },
    {
     "name": "stderr",
     "output_type": "stream",
     "text": [
      "100%|██████████| 118/118 [00:03<00:00, 39.27it/s]\n"
     ]
    },
    {
     "name": "stdout",
     "output_type": "stream",
     "text": [
      "Epoch 49, Loss: 0.0132\n"
     ]
    },
    {
     "name": "stderr",
     "output_type": "stream",
     "text": [
      "100%|██████████| 118/118 [00:02<00:00, 39.73it/s]\n"
     ]
    },
    {
     "name": "stdout",
     "output_type": "stream",
     "text": [
      "Epoch 50, Loss: 0.0131\n"
     ]
    },
    {
     "name": "stderr",
     "output_type": "stream",
     "text": [
      "100%|██████████| 118/118 [00:02<00:00, 39.48it/s]\n"
     ]
    },
    {
     "name": "stdout",
     "output_type": "stream",
     "text": [
      "Epoch 51, Loss: 0.0131\n"
     ]
    },
    {
     "name": "stderr",
     "output_type": "stream",
     "text": [
      "100%|██████████| 118/118 [00:02<00:00, 39.58it/s]\n"
     ]
    },
    {
     "name": "stdout",
     "output_type": "stream",
     "text": [
      "Epoch 52, Loss: 0.0131\n"
     ]
    },
    {
     "name": "stderr",
     "output_type": "stream",
     "text": [
      "100%|██████████| 118/118 [00:02<00:00, 39.42it/s]\n"
     ]
    },
    {
     "name": "stdout",
     "output_type": "stream",
     "text": [
      "Epoch 53, Loss: 0.0131\n"
     ]
    },
    {
     "name": "stderr",
     "output_type": "stream",
     "text": [
      "100%|██████████| 118/118 [00:02<00:00, 39.61it/s]\n"
     ]
    },
    {
     "name": "stdout",
     "output_type": "stream",
     "text": [
      "Epoch 54, Loss: 0.0130\n"
     ]
    },
    {
     "name": "stderr",
     "output_type": "stream",
     "text": [
      "100%|██████████| 118/118 [00:03<00:00, 39.01it/s]\n"
     ]
    },
    {
     "name": "stdout",
     "output_type": "stream",
     "text": [
      "Epoch 55, Loss: 0.0130\n"
     ]
    },
    {
     "name": "stderr",
     "output_type": "stream",
     "text": [
      "100%|██████████| 118/118 [00:02<00:00, 39.34it/s]\n"
     ]
    },
    {
     "name": "stdout",
     "output_type": "stream",
     "text": [
      "Epoch 56, Loss: 0.0129\n"
     ]
    },
    {
     "name": "stderr",
     "output_type": "stream",
     "text": [
      "100%|██████████| 118/118 [00:02<00:00, 39.50it/s]\n"
     ]
    },
    {
     "name": "stdout",
     "output_type": "stream",
     "text": [
      "Epoch 57, Loss: 0.0129\n"
     ]
    },
    {
     "name": "stderr",
     "output_type": "stream",
     "text": [
      "100%|██████████| 118/118 [00:02<00:00, 39.43it/s]\n"
     ]
    },
    {
     "name": "stdout",
     "output_type": "stream",
     "text": [
      "Epoch 58, Loss: 0.0129\n"
     ]
    },
    {
     "name": "stderr",
     "output_type": "stream",
     "text": [
      "100%|██████████| 118/118 [00:02<00:00, 39.36it/s]\n"
     ]
    },
    {
     "name": "stdout",
     "output_type": "stream",
     "text": [
      "Epoch 59, Loss: 0.0129\n"
     ]
    },
    {
     "name": "stderr",
     "output_type": "stream",
     "text": [
      "100%|██████████| 118/118 [00:02<00:00, 39.44it/s]"
     ]
    },
    {
     "name": "stdout",
     "output_type": "stream",
     "text": [
      "Epoch 60, Loss: 0.0128\n"
     ]
    },
    {
     "name": "stderr",
     "output_type": "stream",
     "text": [
      "\n"
     ]
    }
   ],
   "execution_count": 150
  },
  {
   "metadata": {},
   "cell_type": "markdown",
   "source": "### Test the model",
   "id": "73a59cca5f6f1c1d"
  },
  {
   "metadata": {
    "ExecuteTime": {
     "end_time": "2025-08-23T21:12:37.137299Z",
     "start_time": "2025-08-23T21:12:37.134112Z"
    }
   },
   "cell_type": "code",
   "source": [
    "print(recipe_ingredients[1])\n",
    "print(recipe_ingredients[2])"
   ],
   "id": "d3e48a09fe1426e0",
   "outputs": [
    {
     "name": "stdout",
     "output_type": "stream",
     "text": [
      "cream of mushroom soup, beef, sour cream, chicken breasts\n",
      "frozen corn, pepper, cream cheese, garlic powder, butter, salt\n"
     ]
    }
   ],
   "execution_count": 151
  },
  {
   "metadata": {
    "ExecuteTime": {
     "end_time": "2025-08-23T21:12:39.262205Z",
     "start_time": "2025-08-23T21:12:39.259556Z"
    }
   },
   "cell_type": "code",
   "source": [
    "print(recipies[1])\n",
    "print(recipies[2])"
   ],
   "id": "fcf051c297ccd189",
   "outputs": [
    {
     "name": "stdout",
     "output_type": "stream",
     "text": [
      "Jewell Ball'S Chicken\n",
      "Creamy Corn\n"
     ]
    }
   ],
   "execution_count": 152
  },
  {
   "metadata": {
    "ExecuteTime": {
     "end_time": "2025-08-23T21:12:41.759677Z",
     "start_time": "2025-08-23T21:12:41.754658Z"
    }
   },
   "cell_type": "code",
   "source": [
    "model.eval()\n",
    "with torch.no_grad():\n",
    "    test_query_recipe_1_emb, _ = model([[ingredient2idx[\"beef\"], ingredient2idx[\"spices\"], ingredient2idx[\"salt\"]]])\n",
    "    test_query_recipe_2_emb, _ = model([[ingredient2idx[\"beef\"], ingredient2idx[\"spices\"], ingredient2idx[\"sauce\"]]])"
   ],
   "id": "e3e2eb6cb461ba4",
   "outputs": [],
   "execution_count": 153
  },
  {
   "metadata": {
    "ExecuteTime": {
     "end_time": "2025-08-23T21:12:44.173514Z",
     "start_time": "2025-08-23T21:12:44.168940Z"
    }
   },
   "cell_type": "code",
   "source": "F.cosine_similarity(test_query_recipe_1_emb, test_query_recipe_2_emb)",
   "id": "8380a9e4270b6997",
   "outputs": [
    {
     "data": {
      "text/plain": [
       "tensor([0.5120])"
      ]
     },
     "execution_count": 154,
     "metadata": {},
     "output_type": "execute_result"
    }
   ],
   "execution_count": 154
  },
  {
   "metadata": {},
   "cell_type": "markdown",
   "source": "### Save the model",
   "id": "ae904e63fc984c1d"
  },
  {
   "metadata": {
    "ExecuteTime": {
     "end_time": "2025-08-23T21:12:50.745826Z",
     "start_time": "2025-08-23T21:12:50.663078Z"
    }
   },
   "cell_type": "code",
   "source": "torch.save(model.state_dict(), \"./../models/recipe_embedding_model.pt\")",
   "id": "5a995eb9adaf307e",
   "outputs": [],
   "execution_count": 155
  },
  {
   "metadata": {},
   "cell_type": "markdown",
   "source": "### Generate embeddings for all recipies",
   "id": "fe8e5ada07b83ea3"
  },
  {
   "metadata": {
    "ExecuteTime": {
     "end_time": "2025-08-24T00:08:30.539886Z",
     "start_time": "2025-08-24T00:08:30.500302Z"
    }
   },
   "cell_type": "code",
   "source": [
    "df_recipies_for_app = df_recipies.sample(frac=0.1)\n",
    "\n",
    "print(f\"Number of recipes: {len(df_recipies_for_app)}\")\n",
    "df_recipies_for_app.head()"
   ],
   "id": "59ef087295b303fc",
   "outputs": [
    {
     "name": "stdout",
     "output_type": "stream",
     "text": [
      "Number of recipes: 129010\n"
     ]
    },
    {
     "data": {
      "text/plain": [
       "                                                    title  \\\n",
       "1699455           Spicy Chocolate Cookies Recipe Adrienne   \n",
       "131298                           Cape Cod Oatmeal Cookies   \n",
       "1319168                 Pear And Goats' Cheese Bruschetta   \n",
       "1336030                                 Orange Aperol Sun   \n",
       "2062356  Tomato and Chive Salad With Goat Cheese Croutons   \n",
       "\n",
       "                                               ingredients  \\\n",
       "1699455  [\"1 1/2 cups flour\", \"1 cup sugar\", \"1/2 stick...   \n",
       "131298   [\"1 1/2 c. flour\", \"1/2 tsp. baking soda\", \"1 ...   \n",
       "1319168  [\"pear, chopped into wedges\", \"knob butter\", \"...   \n",
       "1336030  [\"Ice cubes\", \"6 tablespoons Aperol\", \"6 table...   \n",
       "2062356  [\"1 small baguette, sliced into 24 thin slices...   \n",
       "\n",
       "                                                directions  \\\n",
       "1699455  [\"Preheat oven to 350\", \"Mix all of the ingred...   \n",
       "131298   [\"Set oven at 350\\u00b0.\", \"Sift together flou...   \n",
       "1319168  [\"1. Heat the butter in a frying pan. Saute th...   \n",
       "1336030  [\"Place enough ice cubes in each of 6 balloon ...   \n",
       "2062356  [\"Preheat the oven to 350F Put the bread on a ...   \n",
       "\n",
       "                                                      link  \\\n",
       "1699455  www.chowhound.com/recipes/spicy-chocolate-cook...   \n",
       "131298     www.cookbooks.com/Recipe-Details.aspx?id=654568   \n",
       "1319168  www.epicurious.com/recipes/member/views/pear-a...   \n",
       "1336030  www.epicurious.com/recipes/food/views/orange-a...   \n",
       "2062356  www.food.com/recipe/tomato-and-chive-salad-wit...   \n",
       "\n",
       "                                                       NER  \n",
       "1699455  cayenne, sugar, unsweetened cocoa, cinnamon, f...  \n",
       "131298   egg, sugar, baking soda, cinnamon, molasses, l...  \n",
       "1319168  knob butter, shallot, brown sugar, pear, rosem...  \n",
       "1336030                                cubes, orange juice  \n",
       "2062356  tomatoes, salt, goat cheese, extra virgin oliv...  "
      ],
      "text/html": [
       "<div>\n",
       "<style scoped>\n",
       "    .dataframe tbody tr th:only-of-type {\n",
       "        vertical-align: middle;\n",
       "    }\n",
       "\n",
       "    .dataframe tbody tr th {\n",
       "        vertical-align: top;\n",
       "    }\n",
       "\n",
       "    .dataframe thead th {\n",
       "        text-align: right;\n",
       "    }\n",
       "</style>\n",
       "<table border=\"1\" class=\"dataframe\">\n",
       "  <thead>\n",
       "    <tr style=\"text-align: right;\">\n",
       "      <th></th>\n",
       "      <th>title</th>\n",
       "      <th>ingredients</th>\n",
       "      <th>directions</th>\n",
       "      <th>link</th>\n",
       "      <th>NER</th>\n",
       "    </tr>\n",
       "  </thead>\n",
       "  <tbody>\n",
       "    <tr>\n",
       "      <th>1699455</th>\n",
       "      <td>Spicy Chocolate Cookies Recipe Adrienne</td>\n",
       "      <td>[\"1 1/2 cups flour\", \"1 cup sugar\", \"1/2 stick...</td>\n",
       "      <td>[\"Preheat oven to 350\", \"Mix all of the ingred...</td>\n",
       "      <td>www.chowhound.com/recipes/spicy-chocolate-cook...</td>\n",
       "      <td>cayenne, sugar, unsweetened cocoa, cinnamon, f...</td>\n",
       "    </tr>\n",
       "    <tr>\n",
       "      <th>131298</th>\n",
       "      <td>Cape Cod Oatmeal Cookies</td>\n",
       "      <td>[\"1 1/2 c. flour\", \"1/2 tsp. baking soda\", \"1 ...</td>\n",
       "      <td>[\"Set oven at 350\\u00b0.\", \"Sift together flou...</td>\n",
       "      <td>www.cookbooks.com/Recipe-Details.aspx?id=654568</td>\n",
       "      <td>egg, sugar, baking soda, cinnamon, molasses, l...</td>\n",
       "    </tr>\n",
       "    <tr>\n",
       "      <th>1319168</th>\n",
       "      <td>Pear And Goats' Cheese Bruschetta</td>\n",
       "      <td>[\"pear, chopped into wedges\", \"knob butter\", \"...</td>\n",
       "      <td>[\"1. Heat the butter in a frying pan. Saute th...</td>\n",
       "      <td>www.epicurious.com/recipes/member/views/pear-a...</td>\n",
       "      <td>knob butter, shallot, brown sugar, pear, rosem...</td>\n",
       "    </tr>\n",
       "    <tr>\n",
       "      <th>1336030</th>\n",
       "      <td>Orange Aperol Sun</td>\n",
       "      <td>[\"Ice cubes\", \"6 tablespoons Aperol\", \"6 table...</td>\n",
       "      <td>[\"Place enough ice cubes in each of 6 balloon ...</td>\n",
       "      <td>www.epicurious.com/recipes/food/views/orange-a...</td>\n",
       "      <td>cubes, orange juice</td>\n",
       "    </tr>\n",
       "    <tr>\n",
       "      <th>2062356</th>\n",
       "      <td>Tomato and Chive Salad With Goat Cheese Croutons</td>\n",
       "      <td>[\"1 small baguette, sliced into 24 thin slices...</td>\n",
       "      <td>[\"Preheat the oven to 350F Put the bread on a ...</td>\n",
       "      <td>www.food.com/recipe/tomato-and-chive-salad-wit...</td>\n",
       "      <td>tomatoes, salt, goat cheese, extra virgin oliv...</td>\n",
       "    </tr>\n",
       "  </tbody>\n",
       "</table>\n",
       "</div>"
      ]
     },
     "execution_count": 188,
     "metadata": {},
     "output_type": "execute_result"
    }
   ],
   "execution_count": 188
  },
  {
   "metadata": {
    "ExecuteTime": {
     "end_time": "2025-08-24T00:08:43.515366Z",
     "start_time": "2025-08-24T00:08:37.042966Z"
    }
   },
   "cell_type": "code",
   "source": [
    "df_recipies_for_app[\"id\"] = df_recipies_for_app.index\n",
    "joblib.dump(df_recipies_for_app, \"./../dataset/recipes_for_app.pkl\", compress=9)"
   ],
   "id": "1e44d58a2d52a40e",
   "outputs": [
    {
     "data": {
      "text/plain": [
       "['./../dataset/recipes_for_app.pkl']"
      ]
     },
     "execution_count": 189,
     "metadata": {},
     "output_type": "execute_result"
    }
   ],
   "execution_count": 189
  },
  {
   "metadata": {
    "ExecuteTime": {
     "end_time": "2025-08-24T00:08:47.478010Z",
     "start_time": "2025-08-24T00:08:47.410034Z"
    }
   },
   "cell_type": "code",
   "source": "recipe_ingredients_for_app = df_recipies_for_app[\"NER\"].tolist()",
   "id": "930e9328e33f2d1c",
   "outputs": [],
   "execution_count": 190
  },
  {
   "metadata": {
    "ExecuteTime": {
     "end_time": "2025-08-24T00:08:49.123679Z",
     "start_time": "2025-08-24T00:08:49.120956Z"
    }
   },
   "cell_type": "code",
   "source": [
    "def build_recipe_index(model, ingredients):\n",
    "    model.eval()\n",
    "    with torch.no_grad():\n",
    "        generated_embedding, _ = model(ingredients)\n",
    "    return generated_embedding"
   ],
   "id": "f7f0dcf58080b6a7",
   "outputs": [],
   "execution_count": 191
  },
  {
   "metadata": {
    "ExecuteTime": {
     "end_time": "2025-08-24T00:08:55.363526Z",
     "start_time": "2025-08-24T00:08:52.615671Z"
    }
   },
   "cell_type": "code",
   "source": [
    "generated_embeddings = list()\n",
    "for recipe_ingredient in recipe_ingredients_for_app:\n",
    "    try:\n",
    "        generated_embeddings.append([ingredient2idx[i.strip().replace(\"/\", \"\").lower()] for i in recipe_ingredient.split(',')])\n",
    "    except KeyError:\n",
    "        pass\n",
    "\n",
    "recipe_embeddings = build_recipe_index(model, generated_embeddings)\n",
    "torch.save(recipe_embeddings, \"./../embeddings/recipe_embeddings.pt\")"
   ],
   "id": "fce0decf09cb5047",
   "outputs": [],
   "execution_count": 192
  },
  {
   "metadata": {},
   "cell_type": "markdown",
   "source": "### Test recipe retrival",
   "id": "e247338cb5250ada"
  },
  {
   "metadata": {
    "ExecuteTime": {
     "end_time": "2025-08-24T00:09:00.640561Z",
     "start_time": "2025-08-24T00:09:00.592836Z"
    }
   },
   "cell_type": "code",
   "source": [
    "loaded_embeddings = torch.load(\"./../embeddings/recipe_embeddings.pt\")\n",
    "\n",
    "print(f\"Number of recipes: {len(loaded_embeddings)}\")"
   ],
   "id": "1764ca3174def729",
   "outputs": [
    {
     "name": "stdout",
     "output_type": "stream",
     "text": [
      "Number of recipes: 128938\n"
     ]
    }
   ],
   "execution_count": 193
  },
  {
   "metadata": {
    "ExecuteTime": {
     "end_time": "2025-08-24T00:09:03.432651Z",
     "start_time": "2025-08-24T00:09:03.407146Z"
    }
   },
   "cell_type": "code",
   "source": [
    "query_recipe_ingredients = [ingredient2idx[\"baking powder\"], ingredient2idx[\"ham\"], ingredient2idx[\"flour\"]]\n",
    "query_embedding, _ = model([query_recipe_ingredients])\n",
    "\n",
    "similarity = F.cosine_similarity(query_embedding, loaded_embeddings)\n",
    "topk = torch.topk(similarity, k=10, dim=-1)"
   ],
   "id": "9a07bc24ae3514e8",
   "outputs": [],
   "execution_count": 194
  },
  {
   "metadata": {
    "ExecuteTime": {
     "end_time": "2025-08-24T00:09:05.520564Z",
     "start_time": "2025-08-24T00:09:05.515528Z"
    }
   },
   "cell_type": "code",
   "source": "results = [(idx.item(), similarity[idx].item()) for idx in topk.indices]",
   "id": "41ac49a4026fd4b7",
   "outputs": [],
   "execution_count": 195
  },
  {
   "metadata": {
    "ExecuteTime": {
     "end_time": "2025-08-24T00:09:06.928183Z",
     "start_time": "2025-08-24T00:09:06.922657Z"
    }
   },
   "cell_type": "code",
   "source": [
    "print(\"Top-k similar recipes:\")\n",
    "for idx, score in results:\n",
    "    print(f\"Recipe: {idx}: Menu: {df_recipies_for_app.iloc[idx][\"NER\"]}, Similarity: {score:.4f}\")"
   ],
   "id": "929951227c3cfa06",
   "outputs": [
    {
     "name": "stdout",
     "output_type": "stream",
     "text": [
      "Top-k similar recipes:\n",
      "Recipe: 25684: Menu: bread, tomatoes, italian seasoning, goat cheese, parmesan cheese, freshly ground black pepper, baby spinach leaves, ricotta cheese, olive oil, Similarity: 0.7754\n",
      "Recipe: 66676: Menu: mixed dried fruit, baking powder, oats, dark raisins, baking soda, brown sugar, eggs, apple pie spice, flour, margarine, confectioners sugar, Similarity: 0.6358\n",
      "Recipe: 12642: Menu: pepper, young carrot, white onion, water, celery, parsley, salt, Similarity: 0.5999\n",
      "Recipe: 105914: Menu: extra virgin olive oil, barley, parsley, yellow onions, garlic, chicken, Similarity: 0.5962\n",
      "Recipe: 111685: Menu: bread flour, egg, sugar, shortening, water, yeast, butter, vegetable oil, salt, Similarity: 0.5810\n",
      "Recipe: 120607: Menu: black peppercorns, pepper, water, thyme, bay leaves, apple juice, apple cider vinegar, maple syrup, kosher salt, garlic, Similarity: 0.5805\n",
      "Recipe: 113007: Menu: chocolate, white karo, nuts, white sugar, butter, whipping cream, Similarity: 0.5802\n",
      "Recipe: 101756: Menu: sugar, white pepper, red cabbage, red, cider vinegar, dry mustard, regular salt, green pepper, Similarity: 0.5786\n",
      "Recipe: 99626: Menu: tomatoes, dressing, flour tortillas, cheddar cheese, chicken strips, bacon strips, Similarity: 0.5773\n",
      "Recipe: 34415: Menu: vinegar, sugar, green bell pepper, soy sauce, radishes, Similarity: 0.5746\n"
     ]
    }
   ],
   "execution_count": 196
  },
  {
   "metadata": {
    "ExecuteTime": {
     "end_time": "2025-08-23T20:33:56.068532Z",
     "start_time": "2025-08-23T20:33:56.063630Z"
    }
   },
   "cell_type": "code",
   "source": "df_recipies_for_app.iloc[124775]",
   "id": "9c3a84f77145e98",
   "outputs": [
    {
     "data": {
      "text/plain": [
       "title          Savory Pear, Sweet Potato, And Maple Syrup Sou...\n",
       "ingredients    [\"For the Souffle base\", \"2 tablespoons butter...\n",
       "directions     [\"Peel and cut sweet potatoes into 1-inch chun...\n",
       "link           food52.com/recipes/14383-savory-pear-sweet-pot...\n",
       "NER            orange zest, bartlett, eggs, parmesan cheese, ...\n",
       "id                                                       1381518\n",
       "Name: 1381518, dtype: object"
      ]
     },
     "execution_count": 58,
     "metadata": {},
     "output_type": "execute_result"
    }
   ],
   "execution_count": 58
  },
  {
   "metadata": {},
   "cell_type": "markdown",
   "source": "### Test the reload of the dataset",
   "id": "5e51f8ff48b1cee6"
  },
  {
   "metadata": {
    "ExecuteTime": {
     "end_time": "2025-08-23T12:26:48.435085Z",
     "start_time": "2025-08-23T12:26:48.177967Z"
    }
   },
   "cell_type": "code",
   "source": [
    "df_recipies_for_app_load = joblib.load(\"./../dataset/recipes_for_app.pkl\")\n",
    "df_recipies_for_app_load.head()"
   ],
   "id": "aaa691dfc9ee7623",
   "outputs": [
    {
     "data": {
      "text/plain": [
       "                               title  \\\n",
       "1299563    Mexican Style Pasta Bake    \n",
       "1507766       Slow & Easy Minestrone   \n",
       "1850401             Manzo alla Panna   \n",
       "1039075  Tunisian  Sauce Kerkennaise   \n",
       "909685        Chicken Cordon Bleu Ii   \n",
       "\n",
       "                                               ingredients  \\\n",
       "1299563  [\"12 ounces dried bow tie pasta (about 5 cups)...   \n",
       "1507766  [\"1 can (28 ounces) diced tomatoes, undrained\"...   \n",
       "1850401  [\"3/4 teaspoons Fresh Cracked Black Pepper\", \"...   \n",
       "1039075  [\"2 tomatoes, finely chopped\", \"1/4 cup olive ...   \n",
       "909685   [\"6 skinless, boneless chicken breast halves\",...   \n",
       "\n",
       "                                                directions  \\\n",
       "1299563  [\"1. Preheat oven to 350 degree F. Butter six ...   \n",
       "1507766  [\"In a 4- or 5-qt. slow cooker, combine the fi...   \n",
       "1850401  [\"1.\", \"Rub the pepper onto all sides of the r...   \n",
       "1039075  [\"Combine all the ingredients in a bowl.\", \"Wh...   \n",
       "909685   [\"Pound chicken breasts if they are too thick....   \n",
       "\n",
       "                                                      link  \\\n",
       "1299563  www.epicurious.com/recipes/member/views/mexica...   \n",
       "1507766  www.tasteofhome.com/recipes/slow-easy-minestrone/   \n",
       "1850401  tastykitchen.com/recipes/main-courses/manzo-al...   \n",
       "1039075  www.food.com/recipe/tunisian-sauce-kerkennaise...   \n",
       "909685   www.allrecipes.com/recipe/8669/chicken-cordon-...   \n",
       "\n",
       "                                                       NER       id  \n",
       "1299563  ground cumin, colby cheese, cilantro, chili po...  1299563  \n",
       "1507766  cabbage, zucchini, tomatoes, mushrooms, onion,...  1507766  \n",
       "1850401  fresh cracked black pepper, olive oil, red win...  1850401  \n",
       "1039075  fresh ground black pepper, sugar, tomatoes, fr...  1039075  \n",
       "909685   chicken bouillon granules, swiss cheese, all-p...   909685  "
      ],
      "text/html": [
       "<div>\n",
       "<style scoped>\n",
       "    .dataframe tbody tr th:only-of-type {\n",
       "        vertical-align: middle;\n",
       "    }\n",
       "\n",
       "    .dataframe tbody tr th {\n",
       "        vertical-align: top;\n",
       "    }\n",
       "\n",
       "    .dataframe thead th {\n",
       "        text-align: right;\n",
       "    }\n",
       "</style>\n",
       "<table border=\"1\" class=\"dataframe\">\n",
       "  <thead>\n",
       "    <tr style=\"text-align: right;\">\n",
       "      <th></th>\n",
       "      <th>title</th>\n",
       "      <th>ingredients</th>\n",
       "      <th>directions</th>\n",
       "      <th>link</th>\n",
       "      <th>NER</th>\n",
       "      <th>id</th>\n",
       "    </tr>\n",
       "  </thead>\n",
       "  <tbody>\n",
       "    <tr>\n",
       "      <th>1299563</th>\n",
       "      <td>Mexican Style Pasta Bake</td>\n",
       "      <td>[\"12 ounces dried bow tie pasta (about 5 cups)...</td>\n",
       "      <td>[\"1. Preheat oven to 350 degree F. Butter six ...</td>\n",
       "      <td>www.epicurious.com/recipes/member/views/mexica...</td>\n",
       "      <td>ground cumin, colby cheese, cilantro, chili po...</td>\n",
       "      <td>1299563</td>\n",
       "    </tr>\n",
       "    <tr>\n",
       "      <th>1507766</th>\n",
       "      <td>Slow &amp; Easy Minestrone</td>\n",
       "      <td>[\"1 can (28 ounces) diced tomatoes, undrained\"...</td>\n",
       "      <td>[\"In a 4- or 5-qt. slow cooker, combine the fi...</td>\n",
       "      <td>www.tasteofhome.com/recipes/slow-easy-minestrone/</td>\n",
       "      <td>cabbage, zucchini, tomatoes, mushrooms, onion,...</td>\n",
       "      <td>1507766</td>\n",
       "    </tr>\n",
       "    <tr>\n",
       "      <th>1850401</th>\n",
       "      <td>Manzo alla Panna</td>\n",
       "      <td>[\"3/4 teaspoons Fresh Cracked Black Pepper\", \"...</td>\n",
       "      <td>[\"1.\", \"Rub the pepper onto all sides of the r...</td>\n",
       "      <td>tastykitchen.com/recipes/main-courses/manzo-al...</td>\n",
       "      <td>fresh cracked black pepper, olive oil, red win...</td>\n",
       "      <td>1850401</td>\n",
       "    </tr>\n",
       "    <tr>\n",
       "      <th>1039075</th>\n",
       "      <td>Tunisian  Sauce Kerkennaise</td>\n",
       "      <td>[\"2 tomatoes, finely chopped\", \"1/4 cup olive ...</td>\n",
       "      <td>[\"Combine all the ingredients in a bowl.\", \"Wh...</td>\n",
       "      <td>www.food.com/recipe/tunisian-sauce-kerkennaise...</td>\n",
       "      <td>fresh ground black pepper, sugar, tomatoes, fr...</td>\n",
       "      <td>1039075</td>\n",
       "    </tr>\n",
       "    <tr>\n",
       "      <th>909685</th>\n",
       "      <td>Chicken Cordon Bleu Ii</td>\n",
       "      <td>[\"6 skinless, boneless chicken breast halves\",...</td>\n",
       "      <td>[\"Pound chicken breasts if they are too thick....</td>\n",
       "      <td>www.allrecipes.com/recipe/8669/chicken-cordon-...</td>\n",
       "      <td>chicken bouillon granules, swiss cheese, all-p...</td>\n",
       "      <td>909685</td>\n",
       "    </tr>\n",
       "  </tbody>\n",
       "</table>\n",
       "</div>"
      ]
     },
     "execution_count": 76,
     "metadata": {},
     "output_type": "execute_result"
    }
   ],
   "execution_count": 76
  },
  {
   "metadata": {
    "ExecuteTime": {
     "end_time": "2025-08-23T12:26:51.480989Z",
     "start_time": "2025-08-23T12:26:51.475947Z"
    }
   },
   "cell_type": "code",
   "source": "df_recipies_for_app_load.iloc[59573]",
   "id": "1c24bf88614faf18",
   "outputs": [
    {
     "data": {
      "text/plain": [
       "title                      Bob L'S Favorite Sweet N' Sour Turkey\n",
       "ingredients    [\"1 (8 oz.) pkg. Green Giant harvest fresh fro...\n",
       "directions     [\"Cook green beans as directed on package. Dra...\n",
       "link             www.cookbooks.com/Recipe-Details.aspx?id=699249\n",
       "NER            vinegar, brown sugar, tomato halves, cornstarc...\n",
       "id                                                        629868\n",
       "Name: 629868, dtype: object"
      ]
     },
     "execution_count": 77,
     "metadata": {},
     "output_type": "execute_result"
    }
   ],
   "execution_count": 77
  }
 ],
 "metadata": {
  "kernelspec": {
   "display_name": "Python 3",
   "language": "python",
   "name": "python3"
  },
  "language_info": {
   "codemirror_mode": {
    "name": "ipython",
    "version": 2
   },
   "file_extension": ".py",
   "mimetype": "text/x-python",
   "name": "python",
   "nbconvert_exporter": "python",
   "pygments_lexer": "ipython2",
   "version": "2.7.6"
  }
 },
 "nbformat": 4,
 "nbformat_minor": 5
}
